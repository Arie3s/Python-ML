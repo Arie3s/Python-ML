{
 "cells": [
  {
   "cell_type": "code",
   "execution_count": 17,
   "id": "590ce7ec",
   "metadata": {},
   "outputs": [],
   "source": [
    "import numpy as np\n",
    "import pandas as pd\n",
    "import seaborn as sns\n",
    "import matplotlib.pyplot as plt\n",
    "from sklearn import datasets"
   ]
  },
  {
   "cell_type": "code",
   "execution_count": 3,
   "id": "3963ceeb",
   "metadata": {},
   "outputs": [],
   "source": [
    "iris = datasets.load_iris()"
   ]
  },
  {
   "cell_type": "code",
   "execution_count": 7,
   "id": "b7e59fec",
   "metadata": {},
   "outputs": [
    {
     "data": {
      "text/plain": [
       "(150, 4)"
      ]
     },
     "execution_count": 7,
     "metadata": {},
     "output_type": "execute_result"
    }
   ],
   "source": [
    "iris.data.shape"
   ]
  },
  {
   "cell_type": "markdown",
   "id": "79ab1cee",
   "metadata": {},
   "source": [
    "# Component AnalysisX\n",
    "\n",
    "    1.data(x) -> zero mean\n",
    "    2.covariance -> XXT/N , XXT/(N-1)\n",
    "    3.eigen values and eignen vector"
   ]
  },
  {
   "cell_type": "code",
   "execution_count": 10,
   "id": "4c8036f6",
   "metadata": {},
   "outputs": [
    {
     "data": {
      "text/plain": [
       "array([5.84333333, 3.05733333, 3.758     , 1.19933333])"
      ]
     },
     "execution_count": 10,
     "metadata": {},
     "output_type": "execute_result"
    }
   ],
   "source": [
    "np.mean(iris.data,axis=0)"
   ]
  },
  {
   "cell_type": "code",
   "execution_count": 29,
   "id": "83089520",
   "metadata": {},
   "outputs": [
    {
     "data": {
      "text/plain": [
       "array([-1.12502600e-15, -7.60872846e-16, -2.55203266e-15, -4.48530102e-16])"
      ]
     },
     "execution_count": 29,
     "metadata": {},
     "output_type": "execute_result"
    }
   ],
   "source": [
    "zero_mean = iris.data - np.mean(iris.data,axis=0)\n",
    "np.mean(zero_mean,axis=0)"
   ]
  },
  {
   "cell_type": "code",
   "execution_count": 30,
   "id": "53e90cd2",
   "metadata": {},
   "outputs": [],
   "source": [
    "co_var=np.cov(zero_mean.T)"
   ]
  },
  {
   "cell_type": "code",
   "execution_count": 32,
   "id": "f9f71b0e",
   "metadata": {},
   "outputs": [],
   "source": [
    "eig_val,eig_vec = np.linalg.eig(co_var)"
   ]
  },
  {
   "cell_type": "code",
   "execution_count": 35,
   "id": "89fc13d7",
   "metadata": {},
   "outputs": [
    {
     "data": {
      "text/plain": [
       "[<matplotlib.lines.Line2D at 0x2705f0696a0>]"
      ]
     },
     "execution_count": 35,
     "metadata": {},
     "output_type": "execute_result"
    },
    {
     "data": {
      "image/png": "[encoded data removed]",
      "text/plain": [
       "<Figure size 640x480 with 1 Axes>"
      ]
     },
     "metadata": {},
     "output_type": "display_data"
    }
   ],
   "source": [
    "plt.plot(np.arange(1,5),eig_val.cumsum()/np.sum(eig_val))"
   ]
  },
  {
   "cell_type": "code",
   "execution_count": null,
   "id": "5f521512",
   "metadata": {},
   "outputs": [],
   "source": []
  },
  {
   "cell_type": "code",
   "execution_count": 24,
   "id": "5f505dca",
   "metadata": {},
   "outputs": [],
   "source": [
    "digits = datasets.load_digits()"
   ]
  },
  {
   "cell_type": "code",
   "execution_count": 36,
   "id": "9752843b",
   "metadata": {},
   "outputs": [
    {
     "data": {
      "text/plain": [
       "array([0.00000000e+00, 3.03839733e-01, 5.20478575e+00, 1.18358375e+01,\n",
       "       1.18480801e+01, 5.78185865e+00, 1.36227045e+00, 1.29660545e-01,\n",
       "       5.56483027e-03, 1.99387869e+00, 1.03823038e+01, 1.19794101e+01,\n",
       "       1.02793545e+01, 8.17584864e+00, 1.84641068e+00, 1.07957707e-01,\n",
       "       2.78241514e-03, 2.60155815e+00, 9.90317195e+00, 6.99276572e+00,\n",
       "       7.09794101e+00, 7.80634391e+00, 1.78853645e+00, 5.00834725e-02,\n",
       "       1.11296605e-03, 2.46967168e+00, 9.09126322e+00, 8.82136895e+00,\n",
       "       9.92710072e+00, 7.55147468e+00, 2.31775181e+00, 2.22593211e-03,\n",
       "       0.00000000e+00, 2.33945465e+00, 7.66722315e+00, 9.07178631e+00,\n",
       "       1.03016138e+01, 8.74401781e+00, 2.90929327e+00, 0.00000000e+00,\n",
       "       8.90372844e-03, 1.58375070e+00, 6.88146912e+00, 7.22815804e+00,\n",
       "       7.67223150e+00, 8.23650529e+00, 3.45631608e+00, 2.72676683e-02,\n",
       "       7.23427935e-03, 7.04507513e-01, 7.50695604e+00, 9.53923205e+00,\n",
       "       9.41624930e+00, 8.75848637e+00, 3.72509738e+00, 2.06455203e-01,\n",
       "       5.56483027e-04, 2.79354480e-01, 5.55759599e+00, 1.20890373e+01,\n",
       "       1.18091263e+01, 6.76405120e+00, 2.06789093e+00, 3.64496383e-01])"
      ]
     },
     "execution_count": 36,
     "metadata": {},
     "output_type": "execute_result"
    }
   ],
   "source": [
    "np.mean(digits.data,axis=0)"
   ]
  },
  {
   "cell_type": "code",
   "execution_count": 37,
   "id": "47bc3261",
   "metadata": {},
   "outputs": [
    {
     "data": {
      "text/plain": [
       "array([ 0.00000000e+00, -1.23910033e-15,  4.92378042e-15,  3.92044030e-15,\n",
       "        1.36118162e-15, -1.73286229e-15, -1.47214214e-15, -4.54993738e-16,\n",
       "       -5.88087669e-18,  5.09442238e-15,  1.78920750e-15, -1.86828850e-15,\n",
       "        5.33005903e-15, -7.62835043e-15,  2.86989872e-15,  5.59220017e-16,\n",
       "        3.26460092e-17,  3.32535582e-15,  1.96615123e-15, -3.14050399e-15,\n",
       "        5.26580572e-15,  2.44508550e-15, -2.36130907e-16, -4.61071545e-16,\n",
       "       -1.87662907e-18, -1.02063909e-15, -2.78365101e-15, -3.34908012e-15,\n",
       "       -3.08514730e-15, -4.52738694e-15, -4.62722669e-15, -1.04257171e-17,\n",
       "        0.00000000e+00,  1.74126465e-15, -4.07316547e-15, -2.69863894e-16,\n",
       "       -2.91018060e-15, -4.08255634e-16, -5.83790729e-15,  0.00000000e+00,\n",
       "       -1.76542142e-17,  1.04411626e-15,  5.59893441e-15, -5.58509524e-16,\n",
       "        6.54592932e-15, -2.27357859e-15,  1.97331794e-15,  1.56482290e-16,\n",
       "        6.86340399e-17, -5.92118946e-16,  8.58028791e-16, -5.83420037e-15,\n",
       "        3.58138054e-15,  3.90462410e-16,  5.69877417e-15, -6.90228805e-16,\n",
       "        6.56820174e-18, -5.14644285e-16, -9.78627307e-16,  4.37713305e-15,\n",
       "       -1.28506616e-16, -3.21859648e-15, -5.63130819e-15, -9.39395720e-16])"
      ]
     },
     "execution_count": 37,
     "metadata": {},
     "output_type": "execute_result"
    }
   ],
   "source": [
    "zero_mean = digits.data - np.mean(digits.data,axis=0)\n",
    "np.mean(zero_mean,axis=0)"
   ]
  },
  {
   "cell_type": "code",
   "execution_count": 38,
   "id": "3098e413",
   "metadata": {},
   "outputs": [
    {
     "data": {
      "text/plain": [
       "array([[ 0.        ,  0.        ,  0.        , ...,  0.        ,\n",
       "         0.        ,  0.        ],\n",
       "       [ 0.        ,  0.8229975 ,  2.40099498, ..., -0.1598953 ,\n",
       "         0.09851423, -0.07406182],\n",
       "       [ 0.        ,  2.40099498, 22.60837352, ..., -1.15544033,\n",
       "         1.41203571,  0.72988047],\n",
       "       ...,\n",
       "       [ 0.        , -0.1598953 , -1.15544033, ..., 34.81734839,\n",
       "        15.64854441,  2.87558266],\n",
       "       [ 0.        ,  0.09851423,  1.41203571, ..., 15.64854441,\n",
       "        16.73258202,  4.72078588],\n",
       "       [ 0.        , -0.07406182,  0.72988047, ...,  2.87558266,\n",
       "         4.72078588,  3.46005282]])"
      ]
     },
     "execution_count": 38,
     "metadata": {},
     "output_type": "execute_result"
    }
   ],
   "source": [
    "co_var=np.cov(zero_mean.T)\n",
    "co_var"
   ]
  },
  {
   "cell_type": "code",
   "execution_count": 39,
   "id": "ec28d25e",
   "metadata": {},
   "outputs": [],
   "source": [
    "eig_val,eig_vec = np.linalg.eig(co_var)"
   ]
  },
  {
   "cell_type": "code",
   "execution_count": 53,
   "id": "bc3f8ec2",
   "metadata": {},
   "outputs": [
    {
     "data": {
      "image/png": "[encoded data removed]",
      "text/plain": [
       "<Figure size 640x480 with 1 Axes>"
      ]
     },
     "metadata": {},
     "output_type": "display_data"
    }
   ],
   "source": [
    "plt.plot(np.arange(1,31),(eig_val.cumsum()/np.sum(eig_val))[:30], marker= 'x')\n",
    "plt.grid()\n",
    "plt.show()"
   ]
  },
  {
   "cell_type": "code",
   "execution_count": 61,
   "id": "40d5a7d7",
   "metadata": {},
   "outputs": [
    {
     "data": {
      "text/plain": [
       "(64,)"
      ]
     },
     "execution_count": 61,
     "metadata": {},
     "output_type": "execute_result"
    }
   ],
   "source": [
    "np.clip((eig_val.cumsum()/np.sum(eig_val)),a_min=0,a_max=0.95).shape"
   ]
  },
  {
   "cell_type": "code",
   "execution_count": 64,
   "id": "6c634fa5",
   "metadata": {},
   "outputs": [
    {
     "data": {
      "image/png": "[encoded data removed]",
      "text/plain": [
       "<Figure size 640x480 with 1 Axes>"
      ]
     },
     "metadata": {},
     "output_type": "display_data"
    }
   ],
   "source": [
    "plt.plot(np.arange(1,65),np.clip((eig_val.cumsum()/np.sum(eig_val)),a_min=0,a_max=0.95), marker= 'x')\n",
    "plt.grid()\n",
    "plt.show()"
   ]
  },
  {
   "cell_type": "code",
   "execution_count": null,
   "id": "7fca4a44",
   "metadata": {},
   "outputs": [],
   "source": []
  },
  {
   "cell_type": "markdown",
   "id": "70be08cd",
   "metadata": {},
   "source": [
    "# Text Based \n",
    "    1.Tokenization\n",
    "    2.Unique word ( frequency )\n",
    "        - Unigram (engram)\n",
    "        - Bigram\n",
    "    3.Reducing list of Unique word\n",
    "        - remove stop words, punctuation\n",
    "        - Stemming\n",
    "            convert word to root form ( playing , play , played ) -> play\n",
    "            few words become incorrect bad , worst -> bad, worst\n",
    "        - Lemmatizer\n",
    "            we define what type of word is then convert to root word\n",
    "        "
   ]
  },
  {
   "cell_type": "markdown",
   "id": "c711dc49",
   "metadata": {},
   "source": [
    "# Tokenization"
   ]
  },
  {
   "cell_type": "code",
   "execution_count": 65,
   "id": "d0ef810b",
   "metadata": {},
   "outputs": [],
   "source": [
    "from nltk.tokenize import sent_tokenize, word_tokenize"
   ]
  },
  {
   "cell_type": "code",
   "execution_count": 66,
   "id": "eb1dda67",
   "metadata": {},
   "outputs": [],
   "source": [
    "example_string = \"\"\"\n",
    " Muad'Dib learned rapidly because his first training was in how to learn.\n",
    " And the first lesson of all was the basic trust that he could learn.\n",
    " It's shocking to find how many people do not believe they can learn,\n",
    " and how many more believe learning to be difficult.\"\"\""
   ]
  },
  {
   "cell_type": "markdown",
   "id": "32bb8527",
   "metadata": {},
   "source": [
    "import nltk\n",
    "nltk.download('punkt')"
   ]
  },
  {
   "cell_type": "code",
   "execution_count": 72,
   "id": "eff0aa0c",
   "metadata": {},
   "outputs": [
    {
     "data": {
      "text/plain": [
       "[\"\\n Muad'Dib learned rapidly because his first training was in how to learn.\",\n",
       " 'And the first lesson of all was the basic trust that he could learn.',\n",
       " \"It's shocking to find how many people do not believe they can learn,\\n and how many more believe learning to be difficult.\"]"
      ]
     },
     "execution_count": 72,
     "metadata": {},
     "output_type": "execute_result"
    }
   ],
   "source": [
    "sent_tokenize(example_string)"
   ]
  },
  {
   "cell_type": "code",
   "execution_count": 73,
   "id": "caeb269b",
   "metadata": {},
   "outputs": [
    {
     "data": {
      "text/plain": [
       "[\"Muad'Dib\",\n",
       " 'learned',\n",
       " 'rapidly',\n",
       " 'because',\n",
       " 'his',\n",
       " 'first',\n",
       " 'training',\n",
       " 'was',\n",
       " 'in',\n",
       " 'how',\n",
       " 'to',\n",
       " 'learn',\n",
       " '.',\n",
       " 'And',\n",
       " 'the',\n",
       " 'first',\n",
       " 'lesson',\n",
       " 'of',\n",
       " 'all',\n",
       " 'was',\n",
       " 'the',\n",
       " 'basic',\n",
       " 'trust',\n",
       " 'that',\n",
       " 'he',\n",
       " 'could',\n",
       " 'learn',\n",
       " '.',\n",
       " 'It',\n",
       " \"'s\",\n",
       " 'shocking',\n",
       " 'to',\n",
       " 'find',\n",
       " 'how',\n",
       " 'many',\n",
       " 'people',\n",
       " 'do',\n",
       " 'not',\n",
       " 'believe',\n",
       " 'they',\n",
       " 'can',\n",
       " 'learn',\n",
       " ',',\n",
       " 'and',\n",
       " 'how',\n",
       " 'many',\n",
       " 'more',\n",
       " 'believe',\n",
       " 'learning',\n",
       " 'to',\n",
       " 'be',\n",
       " 'difficult',\n",
       " '.']"
      ]
     },
     "execution_count": 73,
     "metadata": {},
     "output_type": "execute_result"
    }
   ],
   "source": [
    "word_tokenize(example_string)"
   ]
  },
  {
   "cell_type": "markdown",
   "id": "33f3dd5d",
   "metadata": {},
   "source": [
    "nltk.download(\"stopwords\")"
   ]
  },
  {
   "cell_type": "code",
   "execution_count": 77,
   "id": "7eea4fa2",
   "metadata": {},
   "outputs": [],
   "source": [
    "from nltk.corpus import stopwords\n",
    "from nltk.tokenize import word_tokenize"
   ]
  },
  {
   "cell_type": "code",
   "execution_count": 78,
   "id": "35f7b6a7",
   "metadata": {},
   "outputs": [],
   "source": [
    "worf_quote = \"Sir, I protest. I am not a merry man!\""
   ]
  },
  {
   "cell_type": "code",
   "execution_count": 79,
   "id": "2f9b1e4e",
   "metadata": {},
   "outputs": [],
   "source": [
    "words_in_quote = word_tokenize(worf_quote)"
   ]
  },
  {
   "cell_type": "code",
   "execution_count": 80,
   "id": "e3ad0b9e",
   "metadata": {},
   "outputs": [
    {
     "data": {
      "text/plain": [
       "['Sir', ',', 'I', 'protest', '.', 'I', 'am', 'not', 'a', 'merry', 'man', '!']"
      ]
     },
     "execution_count": 80,
     "metadata": {},
     "output_type": "execute_result"
    }
   ],
   "source": [
    "words_in_quote"
   ]
  },
  {
   "cell_type": "code",
   "execution_count": 82,
   "id": "ba8cd28f",
   "metadata": {},
   "outputs": [],
   "source": [
    "stop_words = set(stopwords.words(\"english\"))"
   ]
  },
  {
   "cell_type": "code",
   "execution_count": 83,
   "id": "8ef200dd",
   "metadata": {},
   "outputs": [],
   "source": [
    ">>> filtered_list = []"
   ]
  },
  {
   "cell_type": "code",
   "execution_count": 84,
   "id": "8355b413",
   "metadata": {},
   "outputs": [],
   "source": [
    ">>> for word in words_in_quote:\n",
    "...    if word.casefold() not in stop_words:\n",
    "...         filtered_list.append(word)"
   ]
  },
  {
   "cell_type": "code",
   "execution_count": 85,
   "id": "45238f33",
   "metadata": {},
   "outputs": [],
   "source": [
    ">>> filtered_list = [\n",
    "...     word for word in words_in_quote if word.casefold() not in stop_words\n",
    "... ]"
   ]
  },
  {
   "cell_type": "code",
   "execution_count": 86,
   "id": "3d8dc6da",
   "metadata": {},
   "outputs": [
    {
     "data": {
      "text/plain": [
       "['Sir', ',', 'protest', '.', 'merry', 'man', '!']"
      ]
     },
     "execution_count": 86,
     "metadata": {},
     "output_type": "execute_result"
    }
   ],
   "source": [
    "filtered_list"
   ]
  },
  {
   "cell_type": "markdown",
   "id": "a6060d18",
   "metadata": {},
   "source": [
    "# Stemming"
   ]
  },
  {
   "cell_type": "code",
   "execution_count": 87,
   "id": "66ce2ad8",
   "metadata": {},
   "outputs": [],
   "source": [
    ">>> from nltk.stem import PorterStemmer\n",
    ">>> from nltk.tokenize import word_tokenize"
   ]
  },
  {
   "cell_type": "code",
   "execution_count": 88,
   "id": "aa70deb8",
   "metadata": {},
   "outputs": [],
   "source": [
    ">>> stemmer = PorterStemmer()"
   ]
  },
  {
   "cell_type": "code",
   "execution_count": 89,
   "id": "2aad7fe2",
   "metadata": {},
   "outputs": [],
   "source": [
    ">>> string_for_stemming = \"\"\"\n",
    "... The crew of the USS Discovery discovered many discoveries.\n",
    "... Discovering is what explorers do.\"\"\""
   ]
  },
  {
   "cell_type": "code",
   "execution_count": 90,
   "id": "3a566e45",
   "metadata": {},
   "outputs": [],
   "source": [
    ">>> words = word_tokenize(string_for_stemming)"
   ]
  },
  {
   "cell_type": "code",
   "execution_count": 91,
   "id": "b6d65eb6",
   "metadata": {},
   "outputs": [
    {
     "data": {
      "text/plain": [
       "['The',\n",
       " 'crew',\n",
       " 'of',\n",
       " 'the',\n",
       " 'USS',\n",
       " 'Discovery',\n",
       " 'discovered',\n",
       " 'many',\n",
       " 'discoveries',\n",
       " '.',\n",
       " 'Discovering',\n",
       " 'is',\n",
       " 'what',\n",
       " 'explorers',\n",
       " 'do',\n",
       " '.']"
      ]
     },
     "execution_count": 91,
     "metadata": {},
     "output_type": "execute_result"
    }
   ],
   "source": [
    "words"
   ]
  },
  {
   "cell_type": "code",
   "execution_count": 92,
   "id": "f6154179",
   "metadata": {},
   "outputs": [],
   "source": [
    ">>> stemmed_words = [stemmer.stem(word) for word in words]"
   ]
  },
  {
   "cell_type": "code",
   "execution_count": 93,
   "id": "b90d0e34",
   "metadata": {},
   "outputs": [
    {
     "data": {
      "text/plain": [
       "['the',\n",
       " 'crew',\n",
       " 'of',\n",
       " 'the',\n",
       " 'uss',\n",
       " 'discoveri',\n",
       " 'discov',\n",
       " 'mani',\n",
       " 'discoveri',\n",
       " '.',\n",
       " 'discov',\n",
       " 'is',\n",
       " 'what',\n",
       " 'explor',\n",
       " 'do',\n",
       " '.']"
      ]
     },
     "execution_count": 93,
     "metadata": {},
     "output_type": "execute_result"
    }
   ],
   "source": [
    "stemmed_words"
   ]
  },
  {
   "cell_type": "markdown",
   "id": "158e3bf4",
   "metadata": {},
   "source": [
    "Snowball stemmer is new version"
   ]
  },
  {
   "cell_type": "code",
   "execution_count": 107,
   "id": "53f27db2",
   "metadata": {},
   "outputs": [],
   "source": [
    "from nltk.stem import SnowballStemmer\n",
    "from nltk.tokenize import word_tokenize"
   ]
  },
  {
   "cell_type": "code",
   "execution_count": 108,
   "id": "6c97be1b",
   "metadata": {},
   "outputs": [],
   "source": [
    "stemmer = SnowballStemmer('english')"
   ]
  },
  {
   "cell_type": "code",
   "execution_count": 109,
   "id": "92dfaf65",
   "metadata": {},
   "outputs": [],
   "source": [
    ">>> string_for_stemming = \"\"\"\n",
    "... The crew of the USS Discovery discovered many discoveries.\n",
    "... Discovering is what explorers do.\"\"\""
   ]
  },
  {
   "cell_type": "code",
   "execution_count": 110,
   "id": "daf5906b",
   "metadata": {},
   "outputs": [],
   "source": [
    "words = word_tokenize(string_for_stemming)"
   ]
  },
  {
   "cell_type": "code",
   "execution_count": 111,
   "id": "93e2f72e",
   "metadata": {},
   "outputs": [],
   "source": [
    "stemmed_words = [stemmer.stem(word) for word in words]"
   ]
  },
  {
   "cell_type": "code",
   "execution_count": 112,
   "id": "306ae61b",
   "metadata": {},
   "outputs": [
    {
     "data": {
      "text/plain": [
       "['the',\n",
       " 'crew',\n",
       " 'of',\n",
       " 'the',\n",
       " 'uss',\n",
       " 'discoveri',\n",
       " 'discov',\n",
       " 'mani',\n",
       " 'discoveri',\n",
       " '.',\n",
       " 'discov',\n",
       " 'is',\n",
       " 'what',\n",
       " 'explor',\n",
       " 'do',\n",
       " '.']"
      ]
     },
     "execution_count": 112,
     "metadata": {},
     "output_type": "execute_result"
    }
   ],
   "source": [
    "stemmed_words"
   ]
  },
  {
   "cell_type": "code",
   "execution_count": 115,
   "id": "f17a03eb",
   "metadata": {},
   "outputs": [
    {
     "data": {
      "text/plain": [
       "'worst'"
      ]
     },
     "execution_count": 115,
     "metadata": {},
     "output_type": "execute_result"
    }
   ],
   "source": [
    "SnowballStemmer('english').stem('worst')"
   ]
  },
  {
   "cell_type": "markdown",
   "id": "829705a3",
   "metadata": {},
   "source": [
    "# Lemmatization"
   ]
  },
  {
   "cell_type": "code",
   "execution_count": 116,
   "id": "51aadd41",
   "metadata": {},
   "outputs": [],
   "source": [
    ">>> from nltk.stem import WordNetLemmatizer"
   ]
  },
  {
   "cell_type": "markdown",
   "id": "af75a23f",
   "metadata": {},
   "source": [
    "import nltk\n",
    "nltk.download('wordnet')"
   ]
  },
  {
   "cell_type": "markdown",
   "id": "07d4153c",
   "metadata": {},
   "source": [
    "nltk.download('omw-1.4')"
   ]
  },
  {
   "cell_type": "code",
   "execution_count": 117,
   "id": "31bf2572",
   "metadata": {},
   "outputs": [],
   "source": [
    ">>> lemmatizer = WordNetLemmatizer()"
   ]
  },
  {
   "cell_type": "code",
   "execution_count": 123,
   "id": "a2b6b4fb",
   "metadata": {},
   "outputs": [
    {
     "data": {
      "text/plain": [
       "'scarf'"
      ]
     },
     "execution_count": 123,
     "metadata": {},
     "output_type": "execute_result"
    }
   ],
   "source": [
    ">>> lemmatizer.lemmatize(\"scarves\")"
   ]
  },
  {
   "cell_type": "code",
   "execution_count": 127,
   "id": "ae877923",
   "metadata": {},
   "outputs": [
    {
     "data": {
      "text/plain": [
       "'worst'"
      ]
     },
     "execution_count": 127,
     "metadata": {},
     "output_type": "execute_result"
    }
   ],
   "source": [
    ">>> lemmatizer.lemmatize(\"worst\")"
   ]
  },
  {
   "cell_type": "code",
   "execution_count": 128,
   "id": "92b8f1d1",
   "metadata": {},
   "outputs": [],
   "source": [
    ">>> string_for_lemmatizing = \"The friends of DeSoto love scarves.\""
   ]
  },
  {
   "cell_type": "code",
   "execution_count": 129,
   "id": "4c014f08",
   "metadata": {},
   "outputs": [],
   "source": [
    ">>> words = word_tokenize(string_for_lemmatizing)"
   ]
  },
  {
   "cell_type": "code",
   "execution_count": 130,
   "id": "77252071",
   "metadata": {},
   "outputs": [
    {
     "data": {
      "text/plain": [
       "['The', 'friends', 'of', 'DeSoto', 'love', 'scarves', '.']"
      ]
     },
     "execution_count": 130,
     "metadata": {},
     "output_type": "execute_result"
    }
   ],
   "source": [
    "words"
   ]
  },
  {
   "cell_type": "code",
   "execution_count": 131,
   "id": "1be49e47",
   "metadata": {},
   "outputs": [],
   "source": [
    ">>> lemmatized_words = [lemmatizer.lemmatize(word) for word in words]"
   ]
  },
  {
   "cell_type": "code",
   "execution_count": 132,
   "id": "16c181b9",
   "metadata": {},
   "outputs": [
    {
     "data": {
      "text/plain": [
       "['The', 'friend', 'of', 'DeSoto', 'love', 'scarf', '.']"
      ]
     },
     "execution_count": 132,
     "metadata": {},
     "output_type": "execute_result"
    }
   ],
   "source": [
    "lemmatized_words"
   ]
  },
  {
   "cell_type": "code",
   "execution_count": 133,
   "id": "fb5faf89",
   "metadata": {},
   "outputs": [
    {
     "data": {
      "text/plain": [
       "'bad'"
      ]
     },
     "execution_count": 133,
     "metadata": {},
     "output_type": "execute_result"
    }
   ],
   "source": [
    "lemmatizer.lemmatize(\"worst\", pos=\"a\")"
   ]
  },
  {
   "cell_type": "code",
   "execution_count": 134,
   "id": "226fb1b4",
   "metadata": {},
   "outputs": [
    {
     "data": {
      "text/plain": [
       "'discover'"
      ]
     },
     "execution_count": 134,
     "metadata": {},
     "output_type": "execute_result"
    }
   ],
   "source": [
    "lemmatizer.lemmatize(\"discovering\", pos=\"v\")"
   ]
  },
  {
   "cell_type": "code",
   "execution_count": 136,
   "id": "98e07163",
   "metadata": {},
   "outputs": [
    {
     "data": {
      "text/plain": [
       "'discover'"
      ]
     },
     "execution_count": 136,
     "metadata": {},
     "output_type": "execute_result"
    }
   ],
   "source": [
    "lemmatizer.lemmatize(\"discovered\", pos=\"v\")"
   ]
  },
  {
   "cell_type": "code",
   "execution_count": 137,
   "id": "a71c30ce",
   "metadata": {},
   "outputs": [
    {
     "data": {
      "text/plain": [
       "'discover'"
      ]
     },
     "execution_count": 137,
     "metadata": {},
     "output_type": "execute_result"
    }
   ],
   "source": [
    "lemmatizer.lemmatize(\"discover\", pos=\"n\")"
   ]
  },
  {
   "cell_type": "code",
   "execution_count": 140,
   "id": "c4cca25c",
   "metadata": {},
   "outputs": [],
   "source": [
    "imdb = pd.read_csv('IMDB Dataset.csv')"
   ]
  },
  {
   "cell_type": "code",
   "execution_count": 142,
   "id": "ce599d4d",
   "metadata": {},
   "outputs": [
    {
     "data": {
      "text/plain": [
       "Index(['review', 'sentiment'], dtype='object')"
      ]
     },
     "execution_count": 142,
     "metadata": {},
     "output_type": "execute_result"
    }
   ],
   "source": [
    "imdb.columns"
   ]
  },
  {
   "cell_type": "markdown",
   "id": "62936204",
   "metadata": {},
   "source": [
    "Tokenization"
   ]
  },
  {
   "cell_type": "code",
   "execution_count": 146,
   "id": "eafb4849",
   "metadata": {},
   "outputs": [],
   "source": [
    "new_db = pd.DataFrame()\n",
    "new_db['word token'] = imdb['review'][:1000].apply(word_tokenize)"
   ]
  },
  {
   "cell_type": "code",
   "execution_count": 147,
   "id": "0b56418a",
   "metadata": {},
   "outputs": [
    {
     "data": {
      "text/html": [
       "<div>\n",
       "<style scoped>\n",
       "    .dataframe tbody tr th:only-of-type {\n",
       "        vertical-align: middle;\n",
       "    }\n",
       "\n",
       "    .dataframe tbody tr th {\n",
       "        vertical-align: top;\n",
       "    }\n",
       "\n",
       "    .dataframe thead th {\n",
       "        text-align: right;\n",
       "    }\n",
       "</style>\n",
       "<table border=\"1\" class=\"dataframe\">\n",
       "  <thead>\n",
       "    <tr style=\"text-align: right;\">\n",
       "      <th></th>\n",
       "      <th>word token</th>\n",
       "    </tr>\n",
       "  </thead>\n",
       "  <tbody>\n",
       "    <tr>\n",
       "      <th>0</th>\n",
       "      <td>[One, of, the, other, reviewers, has, mentione...</td>\n",
       "    </tr>\n",
       "    <tr>\n",
       "      <th>1</th>\n",
       "      <td>[A, wonderful, little, production, ., &lt;, br, /...</td>\n",
       "    </tr>\n",
       "    <tr>\n",
       "      <th>2</th>\n",
       "      <td>[I, thought, this, was, a, wonderful, way, to,...</td>\n",
       "    </tr>\n",
       "    <tr>\n",
       "      <th>3</th>\n",
       "      <td>[Basically, there, 's, a, family, where, a, li...</td>\n",
       "    </tr>\n",
       "    <tr>\n",
       "      <th>4</th>\n",
       "      <td>[Petter, Mattei, 's, ``, Love, in, the, Time, ...</td>\n",
       "    </tr>\n",
       "    <tr>\n",
       "      <th>...</th>\n",
       "      <td>...</td>\n",
       "    </tr>\n",
       "    <tr>\n",
       "      <th>995</th>\n",
       "      <td>[Nothing, is, sacred, ., Just, ask, Ernie, Fos...</td>\n",
       "    </tr>\n",
       "    <tr>\n",
       "      <th>996</th>\n",
       "      <td>[I, hated, it, ., I, hate, self-aware, pretent...</td>\n",
       "    </tr>\n",
       "    <tr>\n",
       "      <th>997</th>\n",
       "      <td>[I, usually, try, to, be, professional, and, c...</td>\n",
       "    </tr>\n",
       "    <tr>\n",
       "      <th>998</th>\n",
       "      <td>[If, you, like, me, is, going, to, see, this, ...</td>\n",
       "    </tr>\n",
       "    <tr>\n",
       "      <th>999</th>\n",
       "      <td>[This, is, like, a, zoology, textbook, ,, give...</td>\n",
       "    </tr>\n",
       "  </tbody>\n",
       "</table>\n",
       "<p>1000 rows × 1 columns</p>\n",
       "</div>"
      ],
      "text/plain": [
       "                                            word token\n",
       "0    [One, of, the, other, reviewers, has, mentione...\n",
       "1    [A, wonderful, little, production, ., <, br, /...\n",
       "2    [I, thought, this, was, a, wonderful, way, to,...\n",
       "3    [Basically, there, 's, a, family, where, a, li...\n",
       "4    [Petter, Mattei, 's, ``, Love, in, the, Time, ...\n",
       "..                                                 ...\n",
       "995  [Nothing, is, sacred, ., Just, ask, Ernie, Fos...\n",
       "996  [I, hated, it, ., I, hate, self-aware, pretent...\n",
       "997  [I, usually, try, to, be, professional, and, c...\n",
       "998  [If, you, like, me, is, going, to, see, this, ...\n",
       "999  [This, is, like, a, zoology, textbook, ,, give...\n",
       "\n",
       "[1000 rows x 1 columns]"
      ]
     },
     "execution_count": 147,
     "metadata": {},
     "output_type": "execute_result"
    }
   ],
   "source": [
    "new_db"
   ]
  },
  {
   "cell_type": "code",
   "execution_count": 149,
   "id": "f0ee5bbe",
   "metadata": {},
   "outputs": [],
   "source": [
    "def filter_stop_words(word_list):\n",
    "    return [word for word in word_list if word.casefold() not in stop_words]"
   ]
  },
  {
   "cell_type": "code",
   "execution_count": 150,
   "id": "9a24fa8c",
   "metadata": {},
   "outputs": [],
   "source": [
    "new_db['filtered'] = new_db['word token'].apply(lambda words: filter_stop_words(words))"
   ]
  },
  {
   "cell_type": "code",
   "execution_count": 151,
   "id": "e7f8f55e",
   "metadata": {},
   "outputs": [
    {
     "data": {
      "text/html": [
       "<div>\n",
       "<style scoped>\n",
       "    .dataframe tbody tr th:only-of-type {\n",
       "        vertical-align: middle;\n",
       "    }\n",
       "\n",
       "    .dataframe tbody tr th {\n",
       "        vertical-align: top;\n",
       "    }\n",
       "\n",
       "    .dataframe thead th {\n",
       "        text-align: right;\n",
       "    }\n",
       "</style>\n",
       "<table border=\"1\" class=\"dataframe\">\n",
       "  <thead>\n",
       "    <tr style=\"text-align: right;\">\n",
       "      <th></th>\n",
       "      <th>word token</th>\n",
       "      <th>filtered</th>\n",
       "    </tr>\n",
       "  </thead>\n",
       "  <tbody>\n",
       "    <tr>\n",
       "      <th>0</th>\n",
       "      <td>[One, of, the, other, reviewers, has, mentione...</td>\n",
       "      <td>[One, reviewers, mentioned, watching, 1, Oz, e...</td>\n",
       "    </tr>\n",
       "    <tr>\n",
       "      <th>1</th>\n",
       "      <td>[A, wonderful, little, production, ., &lt;, br, /...</td>\n",
       "      <td>[wonderful, little, production, ., &lt;, br, /, &gt;...</td>\n",
       "    </tr>\n",
       "    <tr>\n",
       "      <th>2</th>\n",
       "      <td>[I, thought, this, was, a, wonderful, way, to,...</td>\n",
       "      <td>[thought, wonderful, way, spend, time, hot, su...</td>\n",
       "    </tr>\n",
       "    <tr>\n",
       "      <th>3</th>\n",
       "      <td>[Basically, there, 's, a, family, where, a, li...</td>\n",
       "      <td>[Basically, 's, family, little, boy, (, Jake, ...</td>\n",
       "    </tr>\n",
       "    <tr>\n",
       "      <th>4</th>\n",
       "      <td>[Petter, Mattei, 's, ``, Love, in, the, Time, ...</td>\n",
       "      <td>[Petter, Mattei, 's, ``, Love, Time, Money, ''...</td>\n",
       "    </tr>\n",
       "    <tr>\n",
       "      <th>...</th>\n",
       "      <td>...</td>\n",
       "      <td>...</td>\n",
       "    </tr>\n",
       "    <tr>\n",
       "      <th>995</th>\n",
       "      <td>[Nothing, is, sacred, ., Just, ask, Ernie, Fos...</td>\n",
       "      <td>[Nothing, sacred, ., ask, Ernie, Fosselius, .,...</td>\n",
       "    </tr>\n",
       "    <tr>\n",
       "      <th>996</th>\n",
       "      <td>[I, hated, it, ., I, hate, self-aware, pretent...</td>\n",
       "      <td>[hated, ., hate, self-aware, pretentious, inan...</td>\n",
       "    </tr>\n",
       "    <tr>\n",
       "      <th>997</th>\n",
       "      <td>[I, usually, try, to, be, professional, and, c...</td>\n",
       "      <td>[usually, try, professional, constructive, cri...</td>\n",
       "    </tr>\n",
       "    <tr>\n",
       "      <th>998</th>\n",
       "      <td>[If, you, like, me, is, going, to, see, this, ...</td>\n",
       "      <td>[like, going, see, film, history, class, somet...</td>\n",
       "    </tr>\n",
       "    <tr>\n",
       "      <th>999</th>\n",
       "      <td>[This, is, like, a, zoology, textbook, ,, give...</td>\n",
       "      <td>[like, zoology, textbook, ,, given, depiction,...</td>\n",
       "    </tr>\n",
       "  </tbody>\n",
       "</table>\n",
       "<p>1000 rows × 2 columns</p>\n",
       "</div>"
      ],
      "text/plain": [
       "                                            word token  \\\n",
       "0    [One, of, the, other, reviewers, has, mentione...   \n",
       "1    [A, wonderful, little, production, ., <, br, /...   \n",
       "2    [I, thought, this, was, a, wonderful, way, to,...   \n",
       "3    [Basically, there, 's, a, family, where, a, li...   \n",
       "4    [Petter, Mattei, 's, ``, Love, in, the, Time, ...   \n",
       "..                                                 ...   \n",
       "995  [Nothing, is, sacred, ., Just, ask, Ernie, Fos...   \n",
       "996  [I, hated, it, ., I, hate, self-aware, pretent...   \n",
       "997  [I, usually, try, to, be, professional, and, c...   \n",
       "998  [If, you, like, me, is, going, to, see, this, ...   \n",
       "999  [This, is, like, a, zoology, textbook, ,, give...   \n",
       "\n",
       "                                              filtered  \n",
       "0    [One, reviewers, mentioned, watching, 1, Oz, e...  \n",
       "1    [wonderful, little, production, ., <, br, /, >...  \n",
       "2    [thought, wonderful, way, spend, time, hot, su...  \n",
       "3    [Basically, 's, family, little, boy, (, Jake, ...  \n",
       "4    [Petter, Mattei, 's, ``, Love, Time, Money, ''...  \n",
       "..                                                 ...  \n",
       "995  [Nothing, sacred, ., ask, Ernie, Fosselius, .,...  \n",
       "996  [hated, ., hate, self-aware, pretentious, inan...  \n",
       "997  [usually, try, professional, constructive, cri...  \n",
       "998  [like, going, see, film, history, class, somet...  \n",
       "999  [like, zoology, textbook, ,, given, depiction,...  \n",
       "\n",
       "[1000 rows x 2 columns]"
      ]
     },
     "execution_count": 151,
     "metadata": {},
     "output_type": "execute_result"
    }
   ],
   "source": [
    "new_db"
   ]
  },
  {
   "cell_type": "markdown",
   "id": "e5d91b03",
   "metadata": {},
   "source": [
    "stemmed"
   ]
  },
  {
   "cell_type": "code",
   "execution_count": 156,
   "id": "9505f781",
   "metadata": {},
   "outputs": [],
   "source": [
    "def stem_words(word_list):\n",
    "    return [stemmer.stem(word) for word in word_list]\n",
    "\n",
    "new_db['stemmed'] = new_db['filtered'].apply(stem_words)"
   ]
  },
  {
   "cell_type": "code",
   "execution_count": 157,
   "id": "39365827",
   "metadata": {},
   "outputs": [
    {
     "data": {
      "text/html": [
       "<div>\n",
       "<style scoped>\n",
       "    .dataframe tbody tr th:only-of-type {\n",
       "        vertical-align: middle;\n",
       "    }\n",
       "\n",
       "    .dataframe tbody tr th {\n",
       "        vertical-align: top;\n",
       "    }\n",
       "\n",
       "    .dataframe thead th {\n",
       "        text-align: right;\n",
       "    }\n",
       "</style>\n",
       "<table border=\"1\" class=\"dataframe\">\n",
       "  <thead>\n",
       "    <tr style=\"text-align: right;\">\n",
       "      <th></th>\n",
       "      <th>word token</th>\n",
       "      <th>filtered</th>\n",
       "      <th>stemmed</th>\n",
       "    </tr>\n",
       "  </thead>\n",
       "  <tbody>\n",
       "    <tr>\n",
       "      <th>0</th>\n",
       "      <td>[One, of, the, other, reviewers, has, mentione...</td>\n",
       "      <td>[One, reviewers, mentioned, watching, 1, Oz, e...</td>\n",
       "      <td>[one, review, mention, watch, 1, oz, episod, l...</td>\n",
       "    </tr>\n",
       "    <tr>\n",
       "      <th>1</th>\n",
       "      <td>[A, wonderful, little, production, ., &lt;, br, /...</td>\n",
       "      <td>[wonderful, little, production, ., &lt;, br, /, &gt;...</td>\n",
       "      <td>[wonder, littl, product, ., &lt;, br, /, &gt;, &lt;, br...</td>\n",
       "    </tr>\n",
       "    <tr>\n",
       "      <th>2</th>\n",
       "      <td>[I, thought, this, was, a, wonderful, way, to,...</td>\n",
       "      <td>[thought, wonderful, way, spend, time, hot, su...</td>\n",
       "      <td>[thought, wonder, way, spend, time, hot, summe...</td>\n",
       "    </tr>\n",
       "    <tr>\n",
       "      <th>3</th>\n",
       "      <td>[Basically, there, 's, a, family, where, a, li...</td>\n",
       "      <td>[Basically, 's, family, little, boy, (, Jake, ...</td>\n",
       "      <td>[basic, 's, famili, littl, boy, (, jake, ), th...</td>\n",
       "    </tr>\n",
       "    <tr>\n",
       "      <th>4</th>\n",
       "      <td>[Petter, Mattei, 's, ``, Love, in, the, Time, ...</td>\n",
       "      <td>[Petter, Mattei, 's, ``, Love, Time, Money, ''...</td>\n",
       "      <td>[petter, mattei, 's, ``, love, time, money, ''...</td>\n",
       "    </tr>\n",
       "    <tr>\n",
       "      <th>...</th>\n",
       "      <td>...</td>\n",
       "      <td>...</td>\n",
       "      <td>...</td>\n",
       "    </tr>\n",
       "    <tr>\n",
       "      <th>995</th>\n",
       "      <td>[Nothing, is, sacred, ., Just, ask, Ernie, Fos...</td>\n",
       "      <td>[Nothing, sacred, ., ask, Ernie, Fosselius, .,...</td>\n",
       "      <td>[noth, sacr, ., ask, erni, fosselius, ., day, ...</td>\n",
       "    </tr>\n",
       "    <tr>\n",
       "      <th>996</th>\n",
       "      <td>[I, hated, it, ., I, hate, self-aware, pretent...</td>\n",
       "      <td>[hated, ., hate, self-aware, pretentious, inan...</td>\n",
       "      <td>[hate, ., hate, self-awar, pretenti, inan, mas...</td>\n",
       "    </tr>\n",
       "    <tr>\n",
       "      <th>997</th>\n",
       "      <td>[I, usually, try, to, be, professional, and, c...</td>\n",
       "      <td>[usually, try, professional, constructive, cri...</td>\n",
       "      <td>[usual, tri, profession, construct, critic, mo...</td>\n",
       "    </tr>\n",
       "    <tr>\n",
       "      <th>998</th>\n",
       "      <td>[If, you, like, me, is, going, to, see, this, ...</td>\n",
       "      <td>[like, going, see, film, history, class, somet...</td>\n",
       "      <td>[like, go, see, film, histori, class, someth, ...</td>\n",
       "    </tr>\n",
       "    <tr>\n",
       "      <th>999</th>\n",
       "      <td>[This, is, like, a, zoology, textbook, ,, give...</td>\n",
       "      <td>[like, zoology, textbook, ,, given, depiction,...</td>\n",
       "      <td>[like, zoolog, textbook, ,, given, depict, ani...</td>\n",
       "    </tr>\n",
       "  </tbody>\n",
       "</table>\n",
       "<p>1000 rows × 3 columns</p>\n",
       "</div>"
      ],
      "text/plain": [
       "                                            word token  \\\n",
       "0    [One, of, the, other, reviewers, has, mentione...   \n",
       "1    [A, wonderful, little, production, ., <, br, /...   \n",
       "2    [I, thought, this, was, a, wonderful, way, to,...   \n",
       "3    [Basically, there, 's, a, family, where, a, li...   \n",
       "4    [Petter, Mattei, 's, ``, Love, in, the, Time, ...   \n",
       "..                                                 ...   \n",
       "995  [Nothing, is, sacred, ., Just, ask, Ernie, Fos...   \n",
       "996  [I, hated, it, ., I, hate, self-aware, pretent...   \n",
       "997  [I, usually, try, to, be, professional, and, c...   \n",
       "998  [If, you, like, me, is, going, to, see, this, ...   \n",
       "999  [This, is, like, a, zoology, textbook, ,, give...   \n",
       "\n",
       "                                              filtered  \\\n",
       "0    [One, reviewers, mentioned, watching, 1, Oz, e...   \n",
       "1    [wonderful, little, production, ., <, br, /, >...   \n",
       "2    [thought, wonderful, way, spend, time, hot, su...   \n",
       "3    [Basically, 's, family, little, boy, (, Jake, ...   \n",
       "4    [Petter, Mattei, 's, ``, Love, Time, Money, ''...   \n",
       "..                                                 ...   \n",
       "995  [Nothing, sacred, ., ask, Ernie, Fosselius, .,...   \n",
       "996  [hated, ., hate, self-aware, pretentious, inan...   \n",
       "997  [usually, try, professional, constructive, cri...   \n",
       "998  [like, going, see, film, history, class, somet...   \n",
       "999  [like, zoology, textbook, ,, given, depiction,...   \n",
       "\n",
       "                                               stemmed  \n",
       "0    [one, review, mention, watch, 1, oz, episod, l...  \n",
       "1    [wonder, littl, product, ., <, br, /, >, <, br...  \n",
       "2    [thought, wonder, way, spend, time, hot, summe...  \n",
       "3    [basic, 's, famili, littl, boy, (, jake, ), th...  \n",
       "4    [petter, mattei, 's, ``, love, time, money, ''...  \n",
       "..                                                 ...  \n",
       "995  [noth, sacr, ., ask, erni, fosselius, ., day, ...  \n",
       "996  [hate, ., hate, self-awar, pretenti, inan, mas...  \n",
       "997  [usual, tri, profession, construct, critic, mo...  \n",
       "998  [like, go, see, film, histori, class, someth, ...  \n",
       "999  [like, zoolog, textbook, ,, given, depict, ani...  \n",
       "\n",
       "[1000 rows x 3 columns]"
      ]
     },
     "execution_count": 157,
     "metadata": {},
     "output_type": "execute_result"
    }
   ],
   "source": [
    "new_db"
   ]
  },
  {
   "cell_type": "code",
   "execution_count": 158,
   "id": "bb8480a9",
   "metadata": {},
   "outputs": [],
   "source": [
    "def lemmatize(wordlist):\n",
    "    return [lemmatizer.lemmatize(word) for word in wordlist]\n",
    "new_db['lemmatized'] = new_db['filtered'].apply(lemmatize)"
   ]
  },
  {
   "cell_type": "code",
   "execution_count": 159,
   "id": "c94e9a0a",
   "metadata": {},
   "outputs": [
    {
     "data": {
      "text/html": [
       "<div>\n",
       "<style scoped>\n",
       "    .dataframe tbody tr th:only-of-type {\n",
       "        vertical-align: middle;\n",
       "    }\n",
       "\n",
       "    .dataframe tbody tr th {\n",
       "        vertical-align: top;\n",
       "    }\n",
       "\n",
       "    .dataframe thead th {\n",
       "        text-align: right;\n",
       "    }\n",
       "</style>\n",
       "<table border=\"1\" class=\"dataframe\">\n",
       "  <thead>\n",
       "    <tr style=\"text-align: right;\">\n",
       "      <th></th>\n",
       "      <th>word token</th>\n",
       "      <th>filtered</th>\n",
       "      <th>stemmed</th>\n",
       "      <th>lemmatized</th>\n",
       "    </tr>\n",
       "  </thead>\n",
       "  <tbody>\n",
       "    <tr>\n",
       "      <th>0</th>\n",
       "      <td>[One, of, the, other, reviewers, has, mentione...</td>\n",
       "      <td>[One, reviewers, mentioned, watching, 1, Oz, e...</td>\n",
       "      <td>[one, review, mention, watch, 1, oz, episod, l...</td>\n",
       "      <td>[One, reviewer, mentioned, watching, 1, Oz, ep...</td>\n",
       "    </tr>\n",
       "    <tr>\n",
       "      <th>1</th>\n",
       "      <td>[A, wonderful, little, production, ., &lt;, br, /...</td>\n",
       "      <td>[wonderful, little, production, ., &lt;, br, /, &gt;...</td>\n",
       "      <td>[wonder, littl, product, ., &lt;, br, /, &gt;, &lt;, br...</td>\n",
       "      <td>[wonderful, little, production, ., &lt;, br, /, &gt;...</td>\n",
       "    </tr>\n",
       "    <tr>\n",
       "      <th>2</th>\n",
       "      <td>[I, thought, this, was, a, wonderful, way, to,...</td>\n",
       "      <td>[thought, wonderful, way, spend, time, hot, su...</td>\n",
       "      <td>[thought, wonder, way, spend, time, hot, summe...</td>\n",
       "      <td>[thought, wonderful, way, spend, time, hot, su...</td>\n",
       "    </tr>\n",
       "    <tr>\n",
       "      <th>3</th>\n",
       "      <td>[Basically, there, 's, a, family, where, a, li...</td>\n",
       "      <td>[Basically, 's, family, little, boy, (, Jake, ...</td>\n",
       "      <td>[basic, 's, famili, littl, boy, (, jake, ), th...</td>\n",
       "      <td>[Basically, 's, family, little, boy, (, Jake, ...</td>\n",
       "    </tr>\n",
       "    <tr>\n",
       "      <th>4</th>\n",
       "      <td>[Petter, Mattei, 's, ``, Love, in, the, Time, ...</td>\n",
       "      <td>[Petter, Mattei, 's, ``, Love, Time, Money, ''...</td>\n",
       "      <td>[petter, mattei, 's, ``, love, time, money, ''...</td>\n",
       "      <td>[Petter, Mattei, 's, ``, Love, Time, Money, ''...</td>\n",
       "    </tr>\n",
       "    <tr>\n",
       "      <th>...</th>\n",
       "      <td>...</td>\n",
       "      <td>...</td>\n",
       "      <td>...</td>\n",
       "      <td>...</td>\n",
       "    </tr>\n",
       "    <tr>\n",
       "      <th>995</th>\n",
       "      <td>[Nothing, is, sacred, ., Just, ask, Ernie, Fos...</td>\n",
       "      <td>[Nothing, sacred, ., ask, Ernie, Fosselius, .,...</td>\n",
       "      <td>[noth, sacr, ., ask, erni, fosselius, ., day, ...</td>\n",
       "      <td>[Nothing, sacred, ., ask, Ernie, Fosselius, .,...</td>\n",
       "    </tr>\n",
       "    <tr>\n",
       "      <th>996</th>\n",
       "      <td>[I, hated, it, ., I, hate, self-aware, pretent...</td>\n",
       "      <td>[hated, ., hate, self-aware, pretentious, inan...</td>\n",
       "      <td>[hate, ., hate, self-awar, pretenti, inan, mas...</td>\n",
       "      <td>[hated, ., hate, self-aware, pretentious, inan...</td>\n",
       "    </tr>\n",
       "    <tr>\n",
       "      <th>997</th>\n",
       "      <td>[I, usually, try, to, be, professional, and, c...</td>\n",
       "      <td>[usually, try, professional, constructive, cri...</td>\n",
       "      <td>[usual, tri, profession, construct, critic, mo...</td>\n",
       "      <td>[usually, try, professional, constructive, cri...</td>\n",
       "    </tr>\n",
       "    <tr>\n",
       "      <th>998</th>\n",
       "      <td>[If, you, like, me, is, going, to, see, this, ...</td>\n",
       "      <td>[like, going, see, film, history, class, somet...</td>\n",
       "      <td>[like, go, see, film, histori, class, someth, ...</td>\n",
       "      <td>[like, going, see, film, history, class, somet...</td>\n",
       "    </tr>\n",
       "    <tr>\n",
       "      <th>999</th>\n",
       "      <td>[This, is, like, a, zoology, textbook, ,, give...</td>\n",
       "      <td>[like, zoology, textbook, ,, given, depiction,...</td>\n",
       "      <td>[like, zoolog, textbook, ,, given, depict, ani...</td>\n",
       "      <td>[like, zoology, textbook, ,, given, depiction,...</td>\n",
       "    </tr>\n",
       "  </tbody>\n",
       "</table>\n",
       "<p>1000 rows × 4 columns</p>\n",
       "</div>"
      ],
      "text/plain": [
       "                                            word token  \\\n",
       "0    [One, of, the, other, reviewers, has, mentione...   \n",
       "1    [A, wonderful, little, production, ., <, br, /...   \n",
       "2    [I, thought, this, was, a, wonderful, way, to,...   \n",
       "3    [Basically, there, 's, a, family, where, a, li...   \n",
       "4    [Petter, Mattei, 's, ``, Love, in, the, Time, ...   \n",
       "..                                                 ...   \n",
       "995  [Nothing, is, sacred, ., Just, ask, Ernie, Fos...   \n",
       "996  [I, hated, it, ., I, hate, self-aware, pretent...   \n",
       "997  [I, usually, try, to, be, professional, and, c...   \n",
       "998  [If, you, like, me, is, going, to, see, this, ...   \n",
       "999  [This, is, like, a, zoology, textbook, ,, give...   \n",
       "\n",
       "                                              filtered  \\\n",
       "0    [One, reviewers, mentioned, watching, 1, Oz, e...   \n",
       "1    [wonderful, little, production, ., <, br, /, >...   \n",
       "2    [thought, wonderful, way, spend, time, hot, su...   \n",
       "3    [Basically, 's, family, little, boy, (, Jake, ...   \n",
       "4    [Petter, Mattei, 's, ``, Love, Time, Money, ''...   \n",
       "..                                                 ...   \n",
       "995  [Nothing, sacred, ., ask, Ernie, Fosselius, .,...   \n",
       "996  [hated, ., hate, self-aware, pretentious, inan...   \n",
       "997  [usually, try, professional, constructive, cri...   \n",
       "998  [like, going, see, film, history, class, somet...   \n",
       "999  [like, zoology, textbook, ,, given, depiction,...   \n",
       "\n",
       "                                               stemmed  \\\n",
       "0    [one, review, mention, watch, 1, oz, episod, l...   \n",
       "1    [wonder, littl, product, ., <, br, /, >, <, br...   \n",
       "2    [thought, wonder, way, spend, time, hot, summe...   \n",
       "3    [basic, 's, famili, littl, boy, (, jake, ), th...   \n",
       "4    [petter, mattei, 's, ``, love, time, money, ''...   \n",
       "..                                                 ...   \n",
       "995  [noth, sacr, ., ask, erni, fosselius, ., day, ...   \n",
       "996  [hate, ., hate, self-awar, pretenti, inan, mas...   \n",
       "997  [usual, tri, profession, construct, critic, mo...   \n",
       "998  [like, go, see, film, histori, class, someth, ...   \n",
       "999  [like, zoolog, textbook, ,, given, depict, ani...   \n",
       "\n",
       "                                            lemmatized  \n",
       "0    [One, reviewer, mentioned, watching, 1, Oz, ep...  \n",
       "1    [wonderful, little, production, ., <, br, /, >...  \n",
       "2    [thought, wonderful, way, spend, time, hot, su...  \n",
       "3    [Basically, 's, family, little, boy, (, Jake, ...  \n",
       "4    [Petter, Mattei, 's, ``, Love, Time, Money, ''...  \n",
       "..                                                 ...  \n",
       "995  [Nothing, sacred, ., ask, Ernie, Fosselius, .,...  \n",
       "996  [hated, ., hate, self-aware, pretentious, inan...  \n",
       "997  [usually, try, professional, constructive, cri...  \n",
       "998  [like, going, see, film, history, class, somet...  \n",
       "999  [like, zoology, textbook, ,, given, depiction,...  \n",
       "\n",
       "[1000 rows x 4 columns]"
      ]
     },
     "execution_count": 159,
     "metadata": {},
     "output_type": "execute_result"
    }
   ],
   "source": [
    "new_db"
   ]
  },
  {
   "cell_type": "code",
   "execution_count": 160,
   "id": "87497678",
   "metadata": {},
   "outputs": [],
   "source": [
    "from nltk.sentiment import SentimentIntensityAnalyzer"
   ]
  },
  {
   "cell_type": "markdown",
   "id": "4fcc4c1f",
   "metadata": {},
   "source": [
    "nltk.download('vader_lexicon')"
   ]
  },
  {
   "cell_type": "code",
   "execution_count": 162,
   "id": "fece0e06",
   "metadata": {},
   "outputs": [],
   "source": [
    "sid = SentimentIntensityAnalyzer()"
   ]
  },
  {
   "cell_type": "code",
   "execution_count": 163,
   "id": "7b2f6025",
   "metadata": {},
   "outputs": [],
   "source": [
    "def get_sentiment(text):\n",
    "    # Use the SentimentIntensityAnalyzer to get sentiment scores\n",
    "    scores = sid.polarity_scores(text)\n",
    "    \n",
    "    # Determine the sentiment polarity based on the compound score\n",
    "    if scores['compound'] >= 0.05:\n",
    "        return 'Positive'\n",
    "    elif scores['compound'] <= -0.05:\n",
    "        return 'Negative'\n",
    "    else:\n",
    "        return 'Neutral'"
   ]
  },
  {
   "cell_type": "code",
   "execution_count": 168,
   "id": "2ea12efd",
   "metadata": {},
   "outputs": [],
   "source": [
    "new_db['sentiment analyzed'] = new_db['lemmatized'].apply(lambda words: get_sentiment(' '.join(words)))"
   ]
  },
  {
   "cell_type": "code",
   "execution_count": 169,
   "id": "fb6c818f",
   "metadata": {},
   "outputs": [
    {
     "data": {
      "text/html": [
       "<div>\n",
       "<style scoped>\n",
       "    .dataframe tbody tr th:only-of-type {\n",
       "        vertical-align: middle;\n",
       "    }\n",
       "\n",
       "    .dataframe tbody tr th {\n",
       "        vertical-align: top;\n",
       "    }\n",
       "\n",
       "    .dataframe thead th {\n",
       "        text-align: right;\n",
       "    }\n",
       "</style>\n",
       "<table border=\"1\" class=\"dataframe\">\n",
       "  <thead>\n",
       "    <tr style=\"text-align: right;\">\n",
       "      <th></th>\n",
       "      <th>word token</th>\n",
       "      <th>filtered</th>\n",
       "      <th>stemmed</th>\n",
       "      <th>lemmatized</th>\n",
       "      <th>sentiment</th>\n",
       "      <th>Given</th>\n",
       "      <th>sentiment analyzed</th>\n",
       "    </tr>\n",
       "  </thead>\n",
       "  <tbody>\n",
       "    <tr>\n",
       "      <th>0</th>\n",
       "      <td>[One, of, the, other, reviewers, has, mentione...</td>\n",
       "      <td>[One, reviewers, mentioned, watching, 1, Oz, e...</td>\n",
       "      <td>[one, review, mention, watch, 1, oz, episod, l...</td>\n",
       "      <td>[One, reviewer, mentioned, watching, 1, Oz, ep...</td>\n",
       "      <td>Negative</td>\n",
       "      <td>positive</td>\n",
       "      <td>Negative</td>\n",
       "    </tr>\n",
       "    <tr>\n",
       "      <th>1</th>\n",
       "      <td>[A, wonderful, little, production, ., &lt;, br, /...</td>\n",
       "      <td>[wonderful, little, production, ., &lt;, br, /, &gt;...</td>\n",
       "      <td>[wonder, littl, product, ., &lt;, br, /, &gt;, &lt;, br...</td>\n",
       "      <td>[wonderful, little, production, ., &lt;, br, /, &gt;...</td>\n",
       "      <td>Positive</td>\n",
       "      <td>positive</td>\n",
       "      <td>Positive</td>\n",
       "    </tr>\n",
       "    <tr>\n",
       "      <th>2</th>\n",
       "      <td>[I, thought, this, was, a, wonderful, way, to,...</td>\n",
       "      <td>[thought, wonderful, way, spend, time, hot, su...</td>\n",
       "      <td>[thought, wonder, way, spend, time, hot, summe...</td>\n",
       "      <td>[thought, wonderful, way, spend, time, hot, su...</td>\n",
       "      <td>Positive</td>\n",
       "      <td>positive</td>\n",
       "      <td>Positive</td>\n",
       "    </tr>\n",
       "    <tr>\n",
       "      <th>3</th>\n",
       "      <td>[Basically, there, 's, a, family, where, a, li...</td>\n",
       "      <td>[Basically, 's, family, little, boy, (, Jake, ...</td>\n",
       "      <td>[basic, 's, famili, littl, boy, (, jake, ), th...</td>\n",
       "      <td>[Basically, 's, family, little, boy, (, Jake, ...</td>\n",
       "      <td>Negative</td>\n",
       "      <td>negative</td>\n",
       "      <td>Negative</td>\n",
       "    </tr>\n",
       "    <tr>\n",
       "      <th>4</th>\n",
       "      <td>[Petter, Mattei, 's, ``, Love, in, the, Time, ...</td>\n",
       "      <td>[Petter, Mattei, 's, ``, Love, Time, Money, ''...</td>\n",
       "      <td>[petter, mattei, 's, ``, love, time, money, ''...</td>\n",
       "      <td>[Petter, Mattei, 's, ``, Love, Time, Money, ''...</td>\n",
       "      <td>Positive</td>\n",
       "      <td>positive</td>\n",
       "      <td>Positive</td>\n",
       "    </tr>\n",
       "    <tr>\n",
       "      <th>...</th>\n",
       "      <td>...</td>\n",
       "      <td>...</td>\n",
       "      <td>...</td>\n",
       "      <td>...</td>\n",
       "      <td>...</td>\n",
       "      <td>...</td>\n",
       "      <td>...</td>\n",
       "    </tr>\n",
       "    <tr>\n",
       "      <th>995</th>\n",
       "      <td>[Nothing, is, sacred, ., Just, ask, Ernie, Fos...</td>\n",
       "      <td>[Nothing, sacred, ., ask, Ernie, Fosselius, .,...</td>\n",
       "      <td>[noth, sacr, ., ask, erni, fosselius, ., day, ...</td>\n",
       "      <td>[Nothing, sacred, ., ask, Ernie, Fosselius, .,...</td>\n",
       "      <td>Negative</td>\n",
       "      <td>positive</td>\n",
       "      <td>Negative</td>\n",
       "    </tr>\n",
       "    <tr>\n",
       "      <th>996</th>\n",
       "      <td>[I, hated, it, ., I, hate, self-aware, pretent...</td>\n",
       "      <td>[hated, ., hate, self-aware, pretentious, inan...</td>\n",
       "      <td>[hate, ., hate, self-awar, pretenti, inan, mas...</td>\n",
       "      <td>[hated, ., hate, self-aware, pretentious, inan...</td>\n",
       "      <td>Negative</td>\n",
       "      <td>negative</td>\n",
       "      <td>Negative</td>\n",
       "    </tr>\n",
       "    <tr>\n",
       "      <th>997</th>\n",
       "      <td>[I, usually, try, to, be, professional, and, c...</td>\n",
       "      <td>[usually, try, professional, constructive, cri...</td>\n",
       "      <td>[usual, tri, profession, construct, critic, mo...</td>\n",
       "      <td>[usually, try, professional, constructive, cri...</td>\n",
       "      <td>Negative</td>\n",
       "      <td>negative</td>\n",
       "      <td>Negative</td>\n",
       "    </tr>\n",
       "    <tr>\n",
       "      <th>998</th>\n",
       "      <td>[If, you, like, me, is, going, to, see, this, ...</td>\n",
       "      <td>[like, going, see, film, history, class, somet...</td>\n",
       "      <td>[like, go, see, film, histori, class, someth, ...</td>\n",
       "      <td>[like, going, see, film, history, class, somet...</td>\n",
       "      <td>Positive</td>\n",
       "      <td>negative</td>\n",
       "      <td>Positive</td>\n",
       "    </tr>\n",
       "    <tr>\n",
       "      <th>999</th>\n",
       "      <td>[This, is, like, a, zoology, textbook, ,, give...</td>\n",
       "      <td>[like, zoology, textbook, ,, given, depiction,...</td>\n",
       "      <td>[like, zoolog, textbook, ,, given, depict, ani...</td>\n",
       "      <td>[like, zoology, textbook, ,, given, depiction,...</td>\n",
       "      <td>Negative</td>\n",
       "      <td>negative</td>\n",
       "      <td>Negative</td>\n",
       "    </tr>\n",
       "  </tbody>\n",
       "</table>\n",
       "<p>1000 rows × 7 columns</p>\n",
       "</div>"
      ],
      "text/plain": [
       "                                            word token  \\\n",
       "0    [One, of, the, other, reviewers, has, mentione...   \n",
       "1    [A, wonderful, little, production, ., <, br, /...   \n",
       "2    [I, thought, this, was, a, wonderful, way, to,...   \n",
       "3    [Basically, there, 's, a, family, where, a, li...   \n",
       "4    [Petter, Mattei, 's, ``, Love, in, the, Time, ...   \n",
       "..                                                 ...   \n",
       "995  [Nothing, is, sacred, ., Just, ask, Ernie, Fos...   \n",
       "996  [I, hated, it, ., I, hate, self-aware, pretent...   \n",
       "997  [I, usually, try, to, be, professional, and, c...   \n",
       "998  [If, you, like, me, is, going, to, see, this, ...   \n",
       "999  [This, is, like, a, zoology, textbook, ,, give...   \n",
       "\n",
       "                                              filtered  \\\n",
       "0    [One, reviewers, mentioned, watching, 1, Oz, e...   \n",
       "1    [wonderful, little, production, ., <, br, /, >...   \n",
       "2    [thought, wonderful, way, spend, time, hot, su...   \n",
       "3    [Basically, 's, family, little, boy, (, Jake, ...   \n",
       "4    [Petter, Mattei, 's, ``, Love, Time, Money, ''...   \n",
       "..                                                 ...   \n",
       "995  [Nothing, sacred, ., ask, Ernie, Fosselius, .,...   \n",
       "996  [hated, ., hate, self-aware, pretentious, inan...   \n",
       "997  [usually, try, professional, constructive, cri...   \n",
       "998  [like, going, see, film, history, class, somet...   \n",
       "999  [like, zoology, textbook, ,, given, depiction,...   \n",
       "\n",
       "                                               stemmed  \\\n",
       "0    [one, review, mention, watch, 1, oz, episod, l...   \n",
       "1    [wonder, littl, product, ., <, br, /, >, <, br...   \n",
       "2    [thought, wonder, way, spend, time, hot, summe...   \n",
       "3    [basic, 's, famili, littl, boy, (, jake, ), th...   \n",
       "4    [petter, mattei, 's, ``, love, time, money, ''...   \n",
       "..                                                 ...   \n",
       "995  [noth, sacr, ., ask, erni, fosselius, ., day, ...   \n",
       "996  [hate, ., hate, self-awar, pretenti, inan, mas...   \n",
       "997  [usual, tri, profession, construct, critic, mo...   \n",
       "998  [like, go, see, film, histori, class, someth, ...   \n",
       "999  [like, zoolog, textbook, ,, given, depict, ani...   \n",
       "\n",
       "                                            lemmatized sentiment     Given  \\\n",
       "0    [One, reviewer, mentioned, watching, 1, Oz, ep...  Negative  positive   \n",
       "1    [wonderful, little, production, ., <, br, /, >...  Positive  positive   \n",
       "2    [thought, wonderful, way, spend, time, hot, su...  Positive  positive   \n",
       "3    [Basically, 's, family, little, boy, (, Jake, ...  Negative  negative   \n",
       "4    [Petter, Mattei, 's, ``, Love, Time, Money, ''...  Positive  positive   \n",
       "..                                                 ...       ...       ...   \n",
       "995  [Nothing, sacred, ., ask, Ernie, Fosselius, .,...  Negative  positive   \n",
       "996  [hated, ., hate, self-aware, pretentious, inan...  Negative  negative   \n",
       "997  [usually, try, professional, constructive, cri...  Negative  negative   \n",
       "998  [like, going, see, film, history, class, somet...  Positive  negative   \n",
       "999  [like, zoology, textbook, ,, given, depiction,...  Negative  negative   \n",
       "\n",
       "    sentiment analyzed  \n",
       "0             Negative  \n",
       "1             Positive  \n",
       "2             Positive  \n",
       "3             Negative  \n",
       "4             Positive  \n",
       "..                 ...  \n",
       "995           Negative  \n",
       "996           Negative  \n",
       "997           Negative  \n",
       "998           Positive  \n",
       "999           Negative  \n",
       "\n",
       "[1000 rows x 7 columns]"
      ]
     },
     "execution_count": 169,
     "metadata": {},
     "output_type": "execute_result"
    }
   ],
   "source": [
    "new_db"
   ]
  },
  {
   "cell_type": "code",
   "execution_count": 170,
   "id": "0ca927d1",
   "metadata": {},
   "outputs": [],
   "source": [
    "new_db['Given']=imdb['sentiment'][:1000]"
   ]
  },
  {
   "cell_type": "code",
   "execution_count": 171,
   "id": "35670283",
   "metadata": {},
   "outputs": [
    {
     "data": {
      "text/html": [
       "<div>\n",
       "<style scoped>\n",
       "    .dataframe tbody tr th:only-of-type {\n",
       "        vertical-align: middle;\n",
       "    }\n",
       "\n",
       "    .dataframe tbody tr th {\n",
       "        vertical-align: top;\n",
       "    }\n",
       "\n",
       "    .dataframe thead th {\n",
       "        text-align: right;\n",
       "    }\n",
       "</style>\n",
       "<table border=\"1\" class=\"dataframe\">\n",
       "  <thead>\n",
       "    <tr style=\"text-align: right;\">\n",
       "      <th></th>\n",
       "      <th>word token</th>\n",
       "      <th>filtered</th>\n",
       "      <th>stemmed</th>\n",
       "      <th>lemmatized</th>\n",
       "      <th>sentiment</th>\n",
       "      <th>Given</th>\n",
       "      <th>sentiment analyzed</th>\n",
       "    </tr>\n",
       "  </thead>\n",
       "  <tbody>\n",
       "    <tr>\n",
       "      <th>0</th>\n",
       "      <td>[One, of, the, other, reviewers, has, mentione...</td>\n",
       "      <td>[One, reviewers, mentioned, watching, 1, Oz, e...</td>\n",
       "      <td>[one, review, mention, watch, 1, oz, episod, l...</td>\n",
       "      <td>[One, reviewer, mentioned, watching, 1, Oz, ep...</td>\n",
       "      <td>Negative</td>\n",
       "      <td>positive</td>\n",
       "      <td>Negative</td>\n",
       "    </tr>\n",
       "    <tr>\n",
       "      <th>1</th>\n",
       "      <td>[A, wonderful, little, production, ., &lt;, br, /...</td>\n",
       "      <td>[wonderful, little, production, ., &lt;, br, /, &gt;...</td>\n",
       "      <td>[wonder, littl, product, ., &lt;, br, /, &gt;, &lt;, br...</td>\n",
       "      <td>[wonderful, little, production, ., &lt;, br, /, &gt;...</td>\n",
       "      <td>Positive</td>\n",
       "      <td>positive</td>\n",
       "      <td>Positive</td>\n",
       "    </tr>\n",
       "    <tr>\n",
       "      <th>2</th>\n",
       "      <td>[I, thought, this, was, a, wonderful, way, to,...</td>\n",
       "      <td>[thought, wonderful, way, spend, time, hot, su...</td>\n",
       "      <td>[thought, wonder, way, spend, time, hot, summe...</td>\n",
       "      <td>[thought, wonderful, way, spend, time, hot, su...</td>\n",
       "      <td>Positive</td>\n",
       "      <td>positive</td>\n",
       "      <td>Positive</td>\n",
       "    </tr>\n",
       "    <tr>\n",
       "      <th>3</th>\n",
       "      <td>[Basically, there, 's, a, family, where, a, li...</td>\n",
       "      <td>[Basically, 's, family, little, boy, (, Jake, ...</td>\n",
       "      <td>[basic, 's, famili, littl, boy, (, jake, ), th...</td>\n",
       "      <td>[Basically, 's, family, little, boy, (, Jake, ...</td>\n",
       "      <td>Negative</td>\n",
       "      <td>negative</td>\n",
       "      <td>Negative</td>\n",
       "    </tr>\n",
       "    <tr>\n",
       "      <th>4</th>\n",
       "      <td>[Petter, Mattei, 's, ``, Love, in, the, Time, ...</td>\n",
       "      <td>[Petter, Mattei, 's, ``, Love, Time, Money, ''...</td>\n",
       "      <td>[petter, mattei, 's, ``, love, time, money, ''...</td>\n",
       "      <td>[Petter, Mattei, 's, ``, Love, Time, Money, ''...</td>\n",
       "      <td>Positive</td>\n",
       "      <td>positive</td>\n",
       "      <td>Positive</td>\n",
       "    </tr>\n",
       "    <tr>\n",
       "      <th>...</th>\n",
       "      <td>...</td>\n",
       "      <td>...</td>\n",
       "      <td>...</td>\n",
       "      <td>...</td>\n",
       "      <td>...</td>\n",
       "      <td>...</td>\n",
       "      <td>...</td>\n",
       "    </tr>\n",
       "    <tr>\n",
       "      <th>995</th>\n",
       "      <td>[Nothing, is, sacred, ., Just, ask, Ernie, Fos...</td>\n",
       "      <td>[Nothing, sacred, ., ask, Ernie, Fosselius, .,...</td>\n",
       "      <td>[noth, sacr, ., ask, erni, fosselius, ., day, ...</td>\n",
       "      <td>[Nothing, sacred, ., ask, Ernie, Fosselius, .,...</td>\n",
       "      <td>Negative</td>\n",
       "      <td>positive</td>\n",
       "      <td>Negative</td>\n",
       "    </tr>\n",
       "    <tr>\n",
       "      <th>996</th>\n",
       "      <td>[I, hated, it, ., I, hate, self-aware, pretent...</td>\n",
       "      <td>[hated, ., hate, self-aware, pretentious, inan...</td>\n",
       "      <td>[hate, ., hate, self-awar, pretenti, inan, mas...</td>\n",
       "      <td>[hated, ., hate, self-aware, pretentious, inan...</td>\n",
       "      <td>Negative</td>\n",
       "      <td>negative</td>\n",
       "      <td>Negative</td>\n",
       "    </tr>\n",
       "    <tr>\n",
       "      <th>997</th>\n",
       "      <td>[I, usually, try, to, be, professional, and, c...</td>\n",
       "      <td>[usually, try, professional, constructive, cri...</td>\n",
       "      <td>[usual, tri, profession, construct, critic, mo...</td>\n",
       "      <td>[usually, try, professional, constructive, cri...</td>\n",
       "      <td>Negative</td>\n",
       "      <td>negative</td>\n",
       "      <td>Negative</td>\n",
       "    </tr>\n",
       "    <tr>\n",
       "      <th>998</th>\n",
       "      <td>[If, you, like, me, is, going, to, see, this, ...</td>\n",
       "      <td>[like, going, see, film, history, class, somet...</td>\n",
       "      <td>[like, go, see, film, histori, class, someth, ...</td>\n",
       "      <td>[like, going, see, film, history, class, somet...</td>\n",
       "      <td>Positive</td>\n",
       "      <td>negative</td>\n",
       "      <td>Positive</td>\n",
       "    </tr>\n",
       "    <tr>\n",
       "      <th>999</th>\n",
       "      <td>[This, is, like, a, zoology, textbook, ,, give...</td>\n",
       "      <td>[like, zoology, textbook, ,, given, depiction,...</td>\n",
       "      <td>[like, zoolog, textbook, ,, given, depict, ani...</td>\n",
       "      <td>[like, zoology, textbook, ,, given, depiction,...</td>\n",
       "      <td>Negative</td>\n",
       "      <td>negative</td>\n",
       "      <td>Negative</td>\n",
       "    </tr>\n",
       "  </tbody>\n",
       "</table>\n",
       "<p>1000 rows × 7 columns</p>\n",
       "</div>"
      ],
      "text/plain": [
       "                                            word token  \\\n",
       "0    [One, of, the, other, reviewers, has, mentione...   \n",
       "1    [A, wonderful, little, production, ., <, br, /...   \n",
       "2    [I, thought, this, was, a, wonderful, way, to,...   \n",
       "3    [Basically, there, 's, a, family, where, a, li...   \n",
       "4    [Petter, Mattei, 's, ``, Love, in, the, Time, ...   \n",
       "..                                                 ...   \n",
       "995  [Nothing, is, sacred, ., Just, ask, Ernie, Fos...   \n",
       "996  [I, hated, it, ., I, hate, self-aware, pretent...   \n",
       "997  [I, usually, try, to, be, professional, and, c...   \n",
       "998  [If, you, like, me, is, going, to, see, this, ...   \n",
       "999  [This, is, like, a, zoology, textbook, ,, give...   \n",
       "\n",
       "                                              filtered  \\\n",
       "0    [One, reviewers, mentioned, watching, 1, Oz, e...   \n",
       "1    [wonderful, little, production, ., <, br, /, >...   \n",
       "2    [thought, wonderful, way, spend, time, hot, su...   \n",
       "3    [Basically, 's, family, little, boy, (, Jake, ...   \n",
       "4    [Petter, Mattei, 's, ``, Love, Time, Money, ''...   \n",
       "..                                                 ...   \n",
       "995  [Nothing, sacred, ., ask, Ernie, Fosselius, .,...   \n",
       "996  [hated, ., hate, self-aware, pretentious, inan...   \n",
       "997  [usually, try, professional, constructive, cri...   \n",
       "998  [like, going, see, film, history, class, somet...   \n",
       "999  [like, zoology, textbook, ,, given, depiction,...   \n",
       "\n",
       "                                               stemmed  \\\n",
       "0    [one, review, mention, watch, 1, oz, episod, l...   \n",
       "1    [wonder, littl, product, ., <, br, /, >, <, br...   \n",
       "2    [thought, wonder, way, spend, time, hot, summe...   \n",
       "3    [basic, 's, famili, littl, boy, (, jake, ), th...   \n",
       "4    [petter, mattei, 's, ``, love, time, money, ''...   \n",
       "..                                                 ...   \n",
       "995  [noth, sacr, ., ask, erni, fosselius, ., day, ...   \n",
       "996  [hate, ., hate, self-awar, pretenti, inan, mas...   \n",
       "997  [usual, tri, profession, construct, critic, mo...   \n",
       "998  [like, go, see, film, histori, class, someth, ...   \n",
       "999  [like, zoolog, textbook, ,, given, depict, ani...   \n",
       "\n",
       "                                            lemmatized sentiment     Given  \\\n",
       "0    [One, reviewer, mentioned, watching, 1, Oz, ep...  Negative  positive   \n",
       "1    [wonderful, little, production, ., <, br, /, >...  Positive  positive   \n",
       "2    [thought, wonderful, way, spend, time, hot, su...  Positive  positive   \n",
       "3    [Basically, 's, family, little, boy, (, Jake, ...  Negative  negative   \n",
       "4    [Petter, Mattei, 's, ``, Love, Time, Money, ''...  Positive  positive   \n",
       "..                                                 ...       ...       ...   \n",
       "995  [Nothing, sacred, ., ask, Ernie, Fosselius, .,...  Negative  positive   \n",
       "996  [hated, ., hate, self-aware, pretentious, inan...  Negative  negative   \n",
       "997  [usually, try, professional, constructive, cri...  Negative  negative   \n",
       "998  [like, going, see, film, history, class, somet...  Positive  negative   \n",
       "999  [like, zoology, textbook, ,, given, depiction,...  Negative  negative   \n",
       "\n",
       "    sentiment analyzed  \n",
       "0             Negative  \n",
       "1             Positive  \n",
       "2             Positive  \n",
       "3             Negative  \n",
       "4             Positive  \n",
       "..                 ...  \n",
       "995           Negative  \n",
       "996           Negative  \n",
       "997           Negative  \n",
       "998           Positive  \n",
       "999           Negative  \n",
       "\n",
       "[1000 rows x 7 columns]"
      ]
     },
     "execution_count": 171,
     "metadata": {},
     "output_type": "execute_result"
    }
   ],
   "source": [
    "new_db"
   ]
  },
  {
   "cell_type": "code",
   "execution_count": 173,
   "id": "bad1d1c9",
   "metadata": {},
   "outputs": [
    {
     "data": {
      "text/html": [
       "<div>\n",
       "<style scoped>\n",
       "    .dataframe tbody tr th:only-of-type {\n",
       "        vertical-align: middle;\n",
       "    }\n",
       "\n",
       "    .dataframe tbody tr th {\n",
       "        vertical-align: top;\n",
       "    }\n",
       "\n",
       "    .dataframe thead th {\n",
       "        text-align: right;\n",
       "    }\n",
       "</style>\n",
       "<table border=\"1\" class=\"dataframe\">\n",
       "  <thead>\n",
       "    <tr style=\"text-align: right;\">\n",
       "      <th></th>\n",
       "      <th>word token</th>\n",
       "      <th>filtered</th>\n",
       "      <th>stemmed</th>\n",
       "      <th>lemmatized</th>\n",
       "      <th>Given</th>\n",
       "      <th>sentiment analyzed</th>\n",
       "    </tr>\n",
       "  </thead>\n",
       "  <tbody>\n",
       "    <tr>\n",
       "      <th>0</th>\n",
       "      <td>[One, of, the, other, reviewers, has, mentione...</td>\n",
       "      <td>[One, reviewers, mentioned, watching, 1, Oz, e...</td>\n",
       "      <td>[one, review, mention, watch, 1, oz, episod, l...</td>\n",
       "      <td>[One, reviewer, mentioned, watching, 1, Oz, ep...</td>\n",
       "      <td>positive</td>\n",
       "      <td>Negative</td>\n",
       "    </tr>\n",
       "    <tr>\n",
       "      <th>1</th>\n",
       "      <td>[A, wonderful, little, production, ., &lt;, br, /...</td>\n",
       "      <td>[wonderful, little, production, ., &lt;, br, /, &gt;...</td>\n",
       "      <td>[wonder, littl, product, ., &lt;, br, /, &gt;, &lt;, br...</td>\n",
       "      <td>[wonderful, little, production, ., &lt;, br, /, &gt;...</td>\n",
       "      <td>positive</td>\n",
       "      <td>Positive</td>\n",
       "    </tr>\n",
       "    <tr>\n",
       "      <th>2</th>\n",
       "      <td>[I, thought, this, was, a, wonderful, way, to,...</td>\n",
       "      <td>[thought, wonderful, way, spend, time, hot, su...</td>\n",
       "      <td>[thought, wonder, way, spend, time, hot, summe...</td>\n",
       "      <td>[thought, wonderful, way, spend, time, hot, su...</td>\n",
       "      <td>positive</td>\n",
       "      <td>Positive</td>\n",
       "    </tr>\n",
       "    <tr>\n",
       "      <th>3</th>\n",
       "      <td>[Basically, there, 's, a, family, where, a, li...</td>\n",
       "      <td>[Basically, 's, family, little, boy, (, Jake, ...</td>\n",
       "      <td>[basic, 's, famili, littl, boy, (, jake, ), th...</td>\n",
       "      <td>[Basically, 's, family, little, boy, (, Jake, ...</td>\n",
       "      <td>negative</td>\n",
       "      <td>Negative</td>\n",
       "    </tr>\n",
       "    <tr>\n",
       "      <th>4</th>\n",
       "      <td>[Petter, Mattei, 's, ``, Love, in, the, Time, ...</td>\n",
       "      <td>[Petter, Mattei, 's, ``, Love, Time, Money, ''...</td>\n",
       "      <td>[petter, mattei, 's, ``, love, time, money, ''...</td>\n",
       "      <td>[Petter, Mattei, 's, ``, Love, Time, Money, ''...</td>\n",
       "      <td>positive</td>\n",
       "      <td>Positive</td>\n",
       "    </tr>\n",
       "    <tr>\n",
       "      <th>...</th>\n",
       "      <td>...</td>\n",
       "      <td>...</td>\n",
       "      <td>...</td>\n",
       "      <td>...</td>\n",
       "      <td>...</td>\n",
       "      <td>...</td>\n",
       "    </tr>\n",
       "    <tr>\n",
       "      <th>995</th>\n",
       "      <td>[Nothing, is, sacred, ., Just, ask, Ernie, Fos...</td>\n",
       "      <td>[Nothing, sacred, ., ask, Ernie, Fosselius, .,...</td>\n",
       "      <td>[noth, sacr, ., ask, erni, fosselius, ., day, ...</td>\n",
       "      <td>[Nothing, sacred, ., ask, Ernie, Fosselius, .,...</td>\n",
       "      <td>positive</td>\n",
       "      <td>Negative</td>\n",
       "    </tr>\n",
       "    <tr>\n",
       "      <th>996</th>\n",
       "      <td>[I, hated, it, ., I, hate, self-aware, pretent...</td>\n",
       "      <td>[hated, ., hate, self-aware, pretentious, inan...</td>\n",
       "      <td>[hate, ., hate, self-awar, pretenti, inan, mas...</td>\n",
       "      <td>[hated, ., hate, self-aware, pretentious, inan...</td>\n",
       "      <td>negative</td>\n",
       "      <td>Negative</td>\n",
       "    </tr>\n",
       "    <tr>\n",
       "      <th>997</th>\n",
       "      <td>[I, usually, try, to, be, professional, and, c...</td>\n",
       "      <td>[usually, try, professional, constructive, cri...</td>\n",
       "      <td>[usual, tri, profession, construct, critic, mo...</td>\n",
       "      <td>[usually, try, professional, constructive, cri...</td>\n",
       "      <td>negative</td>\n",
       "      <td>Negative</td>\n",
       "    </tr>\n",
       "    <tr>\n",
       "      <th>998</th>\n",
       "      <td>[If, you, like, me, is, going, to, see, this, ...</td>\n",
       "      <td>[like, going, see, film, history, class, somet...</td>\n",
       "      <td>[like, go, see, film, histori, class, someth, ...</td>\n",
       "      <td>[like, going, see, film, history, class, somet...</td>\n",
       "      <td>negative</td>\n",
       "      <td>Positive</td>\n",
       "    </tr>\n",
       "    <tr>\n",
       "      <th>999</th>\n",
       "      <td>[This, is, like, a, zoology, textbook, ,, give...</td>\n",
       "      <td>[like, zoology, textbook, ,, given, depiction,...</td>\n",
       "      <td>[like, zoolog, textbook, ,, given, depict, ani...</td>\n",
       "      <td>[like, zoology, textbook, ,, given, depiction,...</td>\n",
       "      <td>negative</td>\n",
       "      <td>Negative</td>\n",
       "    </tr>\n",
       "  </tbody>\n",
       "</table>\n",
       "<p>1000 rows × 6 columns</p>\n",
       "</div>"
      ],
      "text/plain": [
       "                                            word token  \\\n",
       "0    [One, of, the, other, reviewers, has, mentione...   \n",
       "1    [A, wonderful, little, production, ., <, br, /...   \n",
       "2    [I, thought, this, was, a, wonderful, way, to,...   \n",
       "3    [Basically, there, 's, a, family, where, a, li...   \n",
       "4    [Petter, Mattei, 's, ``, Love, in, the, Time, ...   \n",
       "..                                                 ...   \n",
       "995  [Nothing, is, sacred, ., Just, ask, Ernie, Fos...   \n",
       "996  [I, hated, it, ., I, hate, self-aware, pretent...   \n",
       "997  [I, usually, try, to, be, professional, and, c...   \n",
       "998  [If, you, like, me, is, going, to, see, this, ...   \n",
       "999  [This, is, like, a, zoology, textbook, ,, give...   \n",
       "\n",
       "                                              filtered  \\\n",
       "0    [One, reviewers, mentioned, watching, 1, Oz, e...   \n",
       "1    [wonderful, little, production, ., <, br, /, >...   \n",
       "2    [thought, wonderful, way, spend, time, hot, su...   \n",
       "3    [Basically, 's, family, little, boy, (, Jake, ...   \n",
       "4    [Petter, Mattei, 's, ``, Love, Time, Money, ''...   \n",
       "..                                                 ...   \n",
       "995  [Nothing, sacred, ., ask, Ernie, Fosselius, .,...   \n",
       "996  [hated, ., hate, self-aware, pretentious, inan...   \n",
       "997  [usually, try, professional, constructive, cri...   \n",
       "998  [like, going, see, film, history, class, somet...   \n",
       "999  [like, zoology, textbook, ,, given, depiction,...   \n",
       "\n",
       "                                               stemmed  \\\n",
       "0    [one, review, mention, watch, 1, oz, episod, l...   \n",
       "1    [wonder, littl, product, ., <, br, /, >, <, br...   \n",
       "2    [thought, wonder, way, spend, time, hot, summe...   \n",
       "3    [basic, 's, famili, littl, boy, (, jake, ), th...   \n",
       "4    [petter, mattei, 's, ``, love, time, money, ''...   \n",
       "..                                                 ...   \n",
       "995  [noth, sacr, ., ask, erni, fosselius, ., day, ...   \n",
       "996  [hate, ., hate, self-awar, pretenti, inan, mas...   \n",
       "997  [usual, tri, profession, construct, critic, mo...   \n",
       "998  [like, go, see, film, histori, class, someth, ...   \n",
       "999  [like, zoolog, textbook, ,, given, depict, ani...   \n",
       "\n",
       "                                            lemmatized     Given  \\\n",
       "0    [One, reviewer, mentioned, watching, 1, Oz, ep...  positive   \n",
       "1    [wonderful, little, production, ., <, br, /, >...  positive   \n",
       "2    [thought, wonderful, way, spend, time, hot, su...  positive   \n",
       "3    [Basically, 's, family, little, boy, (, Jake, ...  negative   \n",
       "4    [Petter, Mattei, 's, ``, Love, Time, Money, ''...  positive   \n",
       "..                                                 ...       ...   \n",
       "995  [Nothing, sacred, ., ask, Ernie, Fosselius, .,...  positive   \n",
       "996  [hated, ., hate, self-aware, pretentious, inan...  negative   \n",
       "997  [usually, try, professional, constructive, cri...  negative   \n",
       "998  [like, going, see, film, history, class, somet...  negative   \n",
       "999  [like, zoology, textbook, ,, given, depiction,...  negative   \n",
       "\n",
       "    sentiment analyzed  \n",
       "0             Negative  \n",
       "1             Positive  \n",
       "2             Positive  \n",
       "3             Negative  \n",
       "4             Positive  \n",
       "..                 ...  \n",
       "995           Negative  \n",
       "996           Negative  \n",
       "997           Negative  \n",
       "998           Positive  \n",
       "999           Negative  \n",
       "\n",
       "[1000 rows x 6 columns]"
      ]
     },
     "execution_count": 173,
     "metadata": {},
     "output_type": "execute_result"
    }
   ],
   "source": [
    "new_db.drop(columns=['sentiment'])"
   ]
  },
  {
   "cell_type": "code",
   "execution_count": null,
   "id": "c0bc9577",
   "metadata": {},
   "outputs": [],
   "source": []
  }
 ],
 "metadata": {
  "kernelspec": {
   "display_name": "Python 3 (ipykernel)",
   "language": "python",
   "name": "python3"
  },
  "language_info": {
   "codemirror_mode": {
    "name": "ipython",
    "version": 3
   },
   "file_extension": ".py",
   "mimetype": "text/x-python",
   "name": "python",
   "nbconvert_exporter": "python",
   "pygments_lexer": "ipython3",
   "version": "3.9.16"
  }
 },
 "nbformat": 4,
 "nbformat_minor": 5
}
