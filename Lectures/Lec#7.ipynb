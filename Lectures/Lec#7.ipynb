{
 "cells": [
  {
   "cell_type": "markdown",
   "id": "a1bcd90a",
   "metadata": {},
   "source": [
    "# Categorical Classification\n",
    "Classification is a supervised machine learning method where the model tries to predict the correct label of a given input data.\n",
    "There are two types of classification\n",
    "    \n",
    "    1.Binary\n",
    "    2.Multi\n",
    "    \n",
    "    1. KNN ( k nearest neighbours)"
   ]
  },
  {
   "cell_type": "code",
   "execution_count": 6,
   "id": "f165b2a7",
   "metadata": {},
   "outputs": [],
   "source": [
    "import numpy as np\n",
    "import pandas as pd\n",
    "import matplotlib.pyplot as plt\n",
    "import seaborn as sns\n",
    "import statistics as sp\n",
    "from math import sqrt\n",
    "from sklearn import datasets"
   ]
  },
  {
   "cell_type": "code",
   "execution_count": 3,
   "id": "54508042",
   "metadata": {},
   "outputs": [],
   "source": [
    "x1 = np.random.randint(1, 10, 1000)\n",
    "x2 = np.random.normal(0, 10, 1000)\n",
    "y = np.random.randint(0, 2, 1000)"
   ]
  },
  {
   "cell_type": "code",
   "execution_count": 4,
   "id": "1c2d33ed",
   "metadata": {},
   "outputs": [],
   "source": [
    "# Euclidean Function\n",
    "def euclidean(x1, x2, y1, y2):\n",
    "    res = sqrt((x2 - x1)**2 + (y2 - y1)**2)\n",
    "    return res"
   ]
  },
  {
   "cell_type": "code",
   "execution_count": 5,
   "id": "419a0aa2",
   "metadata": {},
   "outputs": [
    {
     "name": "stdout",
     "output_type": "stream",
     "text": [
      "k-nearest actual values [0 1 0 1 1]\n",
      "the predicted output 1\n",
      "the total loss value 0.498\n"
     ]
    }
   ],
   "source": [
    "# Initialization\n",
    "k = 5\n",
    "loss = []\n",
    "\n",
    "# KNN Algorithm\n",
    "for i in range(0,1000):\n",
    "    dist = []  \n",
    "    for j in range(0,1000):\n",
    "        if i != j:  # Exclude the same point\n",
    "            dist.append(euclidean(x1[i], x1[j],x2[i], x2[j]))\n",
    "\n",
    "    sort_indices = np.argsort(dist)  \n",
    "    top_k = y[sort_indices[0:k]] \n",
    "    y_pred = sp.mode(top_k)\n",
    "\n",
    "    # Append the total loss for each data point\n",
    "    error = abs(y_pred - y[i])\n",
    "    loss.append(error)\n",
    "    # print(loss)\n",
    "\n",
    "print(\"k-nearest actual values\", top_k)\n",
    "print(\"the predicted output\", y_pred)\n",
    "total_loss = np.mean(loss)\n",
    "print(\"the total loss value\", total_loss)"
   ]
  },
  {
   "cell_type": "code",
   "execution_count": 7,
   "id": "5bfa4a07",
   "metadata": {},
   "outputs": [],
   "source": [
    "iris = datasets.load_iris()"
   ]
  },
  {
   "cell_type": "code",
   "execution_count": 9,
   "id": "1a131643",
   "metadata": {},
   "outputs": [],
   "source": [
    "x1 = iris.data[::,1]\n",
    "x2 = iris.data[::,3]\n",
    "y  = iris.target"
   ]
  },
  {
   "cell_type": "code",
   "execution_count": 10,
   "id": "c8b6f268",
   "metadata": {},
   "outputs": [
    {
     "data": {
      "text/plain": [
       "array([0, 1, 2])"
      ]
     },
     "execution_count": 10,
     "metadata": {},
     "output_type": "execute_result"
    }
   ],
   "source": [
    "np.unique(y)"
   ]
  },
  {
   "cell_type": "code",
   "execution_count": 12,
   "id": "9d26a7ba",
   "metadata": {},
   "outputs": [
    {
     "data": {
      "text/plain": [
       "150"
      ]
     },
     "execution_count": 12,
     "metadata": {},
     "output_type": "execute_result"
    }
   ],
   "source": [
    "len(x1)"
   ]
  },
  {
   "cell_type": "code",
   "execution_count": 14,
   "id": "46e6d217",
   "metadata": {},
   "outputs": [
    {
     "name": "stdout",
     "output_type": "stream",
     "text": [
      "k-nearest actual values [2 2 2 2 2]\n",
      "the predicted output 2\n",
      "the total loss value 0.05333333333333334\n"
     ]
    }
   ],
   "source": [
    "# Initialization\n",
    "k = 5\n",
    "loss = []\n",
    "\n",
    "# KNN Algorithm\n",
    "for i in range(0,150):\n",
    "    dist = []  \n",
    "    for j in range(0,150):\n",
    "        if i != j:  # Exclude the same point\n",
    "            dist.append(euclidean(x1[i], x1[j],x2[i], x2[j]))\n",
    "\n",
    "    sort_indices = np.argsort(dist)  \n",
    "    top_k = y[sort_indices[0:k]] \n",
    "    y_pred = sp.mode(top_k)\n",
    "\n",
    "    # Append the total loss for each data point\n",
    "    error = abs(y_pred - y[i])\n",
    "    loss.append(error)\n",
    "    # print(loss)\n",
    "\n",
    "print(\"k-nearest actual values\", top_k)\n",
    "print(\"the predicted output\", y_pred)\n",
    "total_loss = np.mean(loss)\n",
    "print(\"the total loss value\", total_loss)"
   ]
  },
  {
   "cell_type": "code",
   "execution_count": 21,
   "id": "d1ecac56",
   "metadata": {},
   "outputs": [],
   "source": [
    "def predict(a,b):\n",
    "    k = 5\n",
    "    dist=[]\n",
    "    # KNN Algorithm\n",
    "    for i in range(0,150):\n",
    "        dist.append(euclidean(a, x1[j],b, x2[j]))\n",
    "    \n",
    "    sort_indices = np.argsort(dist)  \n",
    "    top_k = y[sort_indices[0:k]] \n",
    "    y_pred = sp.mode(top_k)\n",
    "\n",
    "    print(\"k-nearest actual values\", top_k)\n",
    "    print(\"the predicted output\", y_pred)\n",
    "    return y_pred"
   ]
  },
  {
   "cell_type": "code",
   "execution_count": 24,
   "id": "d9ef8983",
   "metadata": {},
   "outputs": [
    {
     "name": "stdout",
     "output_type": "stream",
     "text": [
      "k-nearest actual values [0 1 1 1 1]\n",
      "the predicted output 1\n"
     ]
    },
    {
     "data": {
      "text/plain": [
       "1"
      ]
     },
     "execution_count": 24,
     "metadata": {},
     "output_type": "execute_result"
    }
   ],
   "source": [
    "predict(3,1)"
   ]
  },
  {
   "cell_type": "markdown",
   "id": "fed987ca",
   "metadata": {},
   "source": [
    "# Logistic Regression\n",
    "Binary Classification\n",
    "\n",
    "$$\n",
    "h_0(x) = \\frac{1}{1 + e^{-z}}\n",
    "$$\n",
    "\n",
    "$$\n",
    "h_\\theta(x) = p( y=1 ) > 0.5 \n",
    "$$\n",
    "\n",
    "Loss function\n",
    "\n",
    "$$\n",
    "\\text{Cross Entropy} = \\frac{1}{N} \\sum_{j=1}^{N} \\left[ y_1 \\log_2(y_j) + (1 - y_j) \\log_2(1 - y_j) \\right]\n",
    "$$\n",
    "\n",
    "Here's a step-by-step explanation of the formula:\n",
    "\n",
    "    1. For each data point $j$, compute the cross-entropy contribution for both the positive class ($y_1 \\log_2(y_j)$) and the negative class ($(1 - y_j) \\log_2(1 - y_j)$).\n",
    "    2. Sum up these contributions across all data points ($\\sum$).\n",
    "    3. Finally, divide the total by the number of data points $N$ to get the average cross-entropy loss.\n",
    "\n",
    "1. $y_1 \\log_2(y_j)$ \n",
    "    - This term computes the cross-entropy contribution for the positive class when the true label is 1.\n",
    "    \n",
    "2. $(1 - y_j) \\log_2(1 - y_j)$\n",
    "    - This term computes the cross-entropy contribution for the negative class when the true label is 0.\n"
   ]
  },
  {
   "cell_type": "code",
   "execution_count": null,
   "id": "36de62ec",
   "metadata": {},
   "outputs": [],
   "source": []
  }
 ],
 "metadata": {
  "kernelspec": {
   "display_name": "Python 3 (ipykernel)",
   "language": "python",
   "name": "python3"
  },
  "language_info": {
   "codemirror_mode": {
    "name": "ipython",
    "version": 3
   },
   "file_extension": ".py",
   "mimetype": "text/x-python",
   "name": "python",
   "nbconvert_exporter": "python",
   "pygments_lexer": "ipython3",
   "version": "3.9.16"
  }
 },
 "nbformat": 4,
 "nbformat_minor": 5
}
