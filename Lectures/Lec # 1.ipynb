{
 "cells": [
  {
   "cell_type": "markdown",
   "id": "1f7d6d7f",
   "metadata": {},
   "source": [
    "# Introduction to python"
   ]
  },
  {
   "cell_type": "code",
   "execution_count": 2,
   "id": "1ad58580",
   "metadata": {},
   "outputs": [],
   "source": [
    "#dynamically typed\n",
    "x=123"
   ]
  },
  {
   "cell_type": "code",
   "execution_count": 3,
   "id": "8165e474",
   "metadata": {},
   "outputs": [
    {
     "name": "stdout",
     "output_type": "stream",
     "text": [
      "123\n"
     ]
    }
   ],
   "source": [
    "print(x)"
   ]
  },
  {
   "cell_type": "code",
   "execution_count": 4,
   "id": "c9972f1b",
   "metadata": {},
   "outputs": [
    {
     "name": "stdout",
     "output_type": "stream",
     "text": [
      "enter a number5\n",
      "6\n"
     ]
    }
   ],
   "source": [
    "num=input(\"enter a number\")\n",
    "print(int(num)+1)"
   ]
  },
  {
   "cell_type": "code",
   "execution_count": 5,
   "id": "9d47f131",
   "metadata": {},
   "outputs": [
    {
     "name": "stdout",
     "output_type": "stream",
     "text": [
      "2018484001136\n"
     ]
    }
   ],
   "source": [
    "print(id(num))"
   ]
  },
  {
   "cell_type": "code",
   "execution_count": 6,
   "id": "74f55118",
   "metadata": {},
   "outputs": [
    {
     "data": {
      "text/plain": [
       "2018484001136"
      ]
     },
     "execution_count": 6,
     "metadata": {},
     "output_type": "execute_result"
    }
   ],
   "source": [
    "id(num)"
   ]
  },
  {
   "cell_type": "code",
   "execution_count": 7,
   "id": "5e5b49aa",
   "metadata": {},
   "outputs": [
    {
     "data": {
      "text/plain": [
       "2018482018480"
      ]
     },
     "execution_count": 7,
     "metadata": {},
     "output_type": "execute_result"
    }
   ],
   "source": [
    "id(x)"
   ]
  },
  {
   "cell_type": "markdown",
   "id": "784b941a",
   "metadata": {},
   "source": [
    "Integer caching \n",
    "variables having same integer value are stored in same address"
   ]
  },
  {
   "cell_type": "code",
   "execution_count": 10,
   "id": "dee3eb76",
   "metadata": {},
   "outputs": [],
   "source": [
    "x=1234\n",
    "y=123"
   ]
  },
  {
   "cell_type": "code",
   "execution_count": 11,
   "id": "de864aae",
   "metadata": {},
   "outputs": [
    {
     "data": {
      "text/plain": [
       "False"
      ]
     },
     "execution_count": 11,
     "metadata": {},
     "output_type": "execute_result"
    }
   ],
   "source": [
    "id(x)==id(y)"
   ]
  },
  {
   "cell_type": "markdown",
   "id": "a8863ee1",
   "metadata": {},
   "source": [
    "List\n",
    "array of void pointers"
   ]
  },
  {
   "cell_type": "code",
   "execution_count": 12,
   "id": "4ba0cd65",
   "metadata": {},
   "outputs": [
    {
     "name": "stdout",
     "output_type": "stream",
     "text": [
      "<class 'str'>\n",
      "<class 'int'>\n",
      "<class 'float'>\n"
     ]
    }
   ],
   "source": [
    "data = ['123',123,123.0]\n",
    "for _ in data:\n",
    "    print(type(_))"
   ]
  },
  {
   "cell_type": "code",
   "execution_count": 13,
   "id": "d3bf4a03",
   "metadata": {},
   "outputs": [
    {
     "data": {
      "text/plain": [
       "False"
      ]
     },
     "execution_count": 13,
     "metadata": {},
     "output_type": "execute_result"
    }
   ],
   "source": [
    "data1=data.copy()\n",
    "id(data)==id(data1)"
   ]
  },
  {
   "cell_type": "code",
   "execution_count": 14,
   "id": "a1824de7",
   "metadata": {},
   "outputs": [
    {
     "data": {
      "text/plain": [
       "True"
      ]
     },
     "execution_count": 14,
     "metadata": {},
     "output_type": "execute_result"
    }
   ],
   "source": [
    "data2=data\n",
    "id(data)==id(data2)"
   ]
  },
  {
   "cell_type": "code",
   "execution_count": 15,
   "id": "a5f97b6b",
   "metadata": {},
   "outputs": [
    {
     "name": "stdout",
     "output_type": "stream",
     "text": [
      "[1, 3, 12, 21, 30]\n"
     ]
    }
   ],
   "source": [
    "sample=[12,1,21,30,3]\n",
    "sample.sort()\n",
    "print(sample)"
   ]
  },
  {
   "cell_type": "code",
   "execution_count": 16,
   "id": "b799ae46",
   "metadata": {},
   "outputs": [
    {
     "name": "stdout",
     "output_type": "stream",
     "text": [
      "['apple', 'ball', 'cat']\n"
     ]
    }
   ],
   "source": [
    "string=['apple','cat','ball']\n",
    "string.sort()\n",
    "print(string)"
   ]
  },
  {
   "cell_type": "markdown",
   "id": "07604ff7",
   "metadata": {},
   "source": [
    "dictionary\n",
    "    key value pair"
   ]
  },
  {
   "cell_type": "code",
   "execution_count": 17,
   "id": "b22612d6",
   "metadata": {},
   "outputs": [],
   "source": [
    "dict={}\n",
    "dict['azfar']=\"bbq\""
   ]
  },
  {
   "cell_type": "code",
   "execution_count": 18,
   "id": "1534a9f1",
   "metadata": {},
   "outputs": [
    {
     "name": "stdout",
     "output_type": "stream",
     "text": [
      "{'azfar': 'bbq'}\n"
     ]
    }
   ],
   "source": [
    "print(dict)"
   ]
  },
  {
   "cell_type": "code",
   "execution_count": 19,
   "id": "c9facab8",
   "metadata": {},
   "outputs": [],
   "source": [
    "sauce={}\n",
    "sauce['3874034']='overflow'"
   ]
  },
  {
   "cell_type": "code",
   "execution_count": 20,
   "id": "33de9990",
   "metadata": {},
   "outputs": [
    {
     "name": "stdout",
     "output_type": "stream",
     "text": [
      "{'3874034': 'overflow'}\n"
     ]
    }
   ],
   "source": [
    "print(sauce)"
   ]
  },
  {
   "cell_type": "code",
   "execution_count": 22,
   "id": "f1f2d23d",
   "metadata": {},
   "outputs": [
    {
     "name": "stdout",
     "output_type": "stream",
     "text": [
      "3874034 wanna see overflow\n"
     ]
    }
   ],
   "source": [
    "for key,value in sauce.items():\n",
    "    print(f'{key} wanna see {value}')"
   ]
  },
  {
   "cell_type": "code",
   "execution_count": 24,
   "id": "09af2359",
   "metadata": {},
   "outputs": [
    {
     "data": {
      "text/plain": [
       "dict_items([('3874034', 'overflow')])"
      ]
     },
     "execution_count": 24,
     "metadata": {},
     "output_type": "execute_result"
    }
   ],
   "source": [
    "sauce.items()"
   ]
  },
  {
   "cell_type": "code",
   "execution_count": 25,
   "id": "4e1854e6",
   "metadata": {},
   "outputs": [
    {
     "name": "stdout",
     "output_type": "stream",
     "text": [
      "{1, 2, 4, 5, 6}\n"
     ]
    }
   ],
   "source": [
    "dup=[1,2,1,1,4,5,6]\n",
    "print(set(dup))"
   ]
  },
  {
   "cell_type": "code",
   "execution_count": null,
   "id": "9327b4a9",
   "metadata": {},
   "outputs": [],
   "source": []
  }
 ],
 "metadata": {
  "kernelspec": {
   "display_name": "Python 3 (ipykernel)",
   "language": "python",
   "name": "python3"
  },
  "language_info": {
   "codemirror_mode": {
    "name": "ipython",
    "version": 3
   },
   "file_extension": ".py",
   "mimetype": "text/x-python",
   "name": "python",
   "nbconvert_exporter": "python",
   "pygments_lexer": "ipython3",
   "version": "3.9.16"
  }
 },
 "nbformat": 4,
 "nbformat_minor": 5
}
