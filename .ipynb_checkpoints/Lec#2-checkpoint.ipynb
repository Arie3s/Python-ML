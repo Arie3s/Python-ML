{
 "cells": [
  {
   "cell_type": "code",
   "execution_count": 1,
   "id": "148329da",
   "metadata": {},
   "outputs": [],
   "source": [
    "import numpy as np"
   ]
  },
  {
   "cell_type": "code",
   "execution_count": 18,
   "id": "cf5f9c67",
   "metadata": {},
   "outputs": [],
   "source": [
    "data=[2,7,10,10,18,20,30,50,80]"
   ]
  },
  {
   "cell_type": "code",
   "execution_count": 19,
   "id": "77f8cf6c",
   "metadata": {},
   "outputs": [],
   "source": [
    "def std_dev(data):\n",
    "    total = sum(data)\n",
    "    mean = total/len(data)\n",
    "    dev=0\n",
    "    for i in data:\n",
    "        dev+=(mean-i)**2\n",
    "    return (dev/len(data))**0.5"
   ]
  },
  {
   "cell_type": "code",
   "execution_count": 20,
   "id": "00d621ab",
   "metadata": {},
   "outputs": [
    {
     "data": {
      "text/plain": [
       "23.691432008582428"
      ]
     },
     "execution_count": 20,
     "metadata": {},
     "output_type": "execute_result"
    }
   ],
   "source": [
    "std_dev(data)"
   ]
  },
  {
   "cell_type": "code",
   "execution_count": 21,
   "id": "035446c3",
   "metadata": {},
   "outputs": [],
   "source": [
    "def median(data):\n",
    "    data.sort()\n",
    "    return data[len(data)//2]"
   ]
  },
  {
   "cell_type": "code",
   "execution_count": 22,
   "id": "13d33907",
   "metadata": {},
   "outputs": [
    {
     "data": {
      "text/plain": [
       "18"
      ]
     },
     "execution_count": 22,
     "metadata": {},
     "output_type": "execute_result"
    }
   ],
   "source": [
    "median(data)"
   ]
  },
  {
   "cell_type": "code",
   "execution_count": 23,
   "id": "4611b3c9",
   "metadata": {},
   "outputs": [],
   "source": [
    "import numpy as np"
   ]
  },
  {
   "cell_type": "code",
   "execution_count": 24,
   "id": "767235c2",
   "metadata": {},
   "outputs": [],
   "source": [
    "np_array=np.array(data)"
   ]
  },
  {
   "cell_type": "code",
   "execution_count": 25,
   "id": "57e530ba",
   "metadata": {},
   "outputs": [
    {
     "data": {
      "text/plain": [
       "23.691432008582428"
      ]
     },
     "execution_count": 25,
     "metadata": {},
     "output_type": "execute_result"
    }
   ],
   "source": [
    "np_array.std()"
   ]
  },
  {
   "cell_type": "code",
   "execution_count": 30,
   "id": "dc5ad758",
   "metadata": {},
   "outputs": [],
   "source": [
    "threed_array=np.zeros((10,2,3))"
   ]
  },
  {
   "cell_type": "code",
   "execution_count": 31,
   "id": "03b1c0e0",
   "metadata": {},
   "outputs": [
    {
     "data": {
      "text/plain": [
       "array([[[0., 0., 0.],\n",
       "        [0., 0., 0.]],\n",
       "\n",
       "       [[0., 0., 0.],\n",
       "        [0., 0., 0.]],\n",
       "\n",
       "       [[0., 0., 0.],\n",
       "        [0., 0., 0.]],\n",
       "\n",
       "       [[0., 0., 0.],\n",
       "        [0., 0., 0.]],\n",
       "\n",
       "       [[0., 0., 0.],\n",
       "        [0., 0., 0.]],\n",
       "\n",
       "       [[0., 0., 0.],\n",
       "        [0., 0., 0.]],\n",
       "\n",
       "       [[0., 0., 0.],\n",
       "        [0., 0., 0.]],\n",
       "\n",
       "       [[0., 0., 0.],\n",
       "        [0., 0., 0.]],\n",
       "\n",
       "       [[0., 0., 0.],\n",
       "        [0., 0., 0.]],\n",
       "\n",
       "       [[0., 0., 0.],\n",
       "        [0., 0., 0.]]])"
      ]
     },
     "execution_count": 31,
     "metadata": {},
     "output_type": "execute_result"
    }
   ],
   "source": [
    "threed_array"
   ]
  },
  {
   "cell_type": "code",
   "execution_count": 36,
   "id": "5153328a",
   "metadata": {},
   "outputs": [],
   "source": [
    "arr=[[\n",
    "    [[1,2],[1,2]],\n",
    "    [[2,3],[2,3]]\n",
    "],[\n",
    "    [[1,2],[1,2]],\n",
    "    [[2,3],[2,3]]\n",
    "]]\n",
    "array=np.array(arr)"
   ]
  },
  {
   "cell_type": "code",
   "execution_count": 37,
   "id": "dba61b9f",
   "metadata": {},
   "outputs": [
    {
     "data": {
      "text/plain": [
       "array([[[[1, 2],\n",
       "         [1, 2]],\n",
       "\n",
       "        [[2, 3],\n",
       "         [2, 3]]],\n",
       "\n",
       "\n",
       "       [[[1, 2],\n",
       "         [1, 2]],\n",
       "\n",
       "        [[2, 3],\n",
       "         [2, 3]]]])"
      ]
     },
     "execution_count": 37,
     "metadata": {},
     "output_type": "execute_result"
    }
   ],
   "source": [
    "array"
   ]
  },
  {
   "cell_type": "code",
   "execution_count": 38,
   "id": "41ce1bce",
   "metadata": {},
   "outputs": [
    {
     "data": {
      "text/plain": [
       "(2, 2, 2, 2)"
      ]
     },
     "execution_count": 38,
     "metadata": {},
     "output_type": "execute_result"
    }
   ],
   "source": [
    "array.shape"
   ]
  },
  {
   "cell_type": "code",
   "execution_count": 52,
   "id": "cf5728dc",
   "metadata": {},
   "outputs": [
    {
     "data": {
      "text/plain": [
       "array([[1.        , 1.41421356, 1.73205081, 2.        , 2.23606798,\n",
       "        2.44948974, 2.64575131, 2.82842712, 3.        , 3.16227766,\n",
       "        3.31662479, 3.46410162, 3.60555128, 3.74165739, 3.87298335,\n",
       "        4.        ],\n",
       "       [4.12310563, 4.24264069, 4.35889894, 4.47213595, 4.58257569,\n",
       "        4.69041576, 4.79583152, 4.89897949, 5.        , 5.09901951,\n",
       "        5.19615242, 5.29150262, 5.38516481, 5.47722558, 5.56776436,\n",
       "        5.65685425],\n",
       "       [5.74456265, 5.83095189, 5.91607978, 6.        , 6.08276253,\n",
       "        6.164414  , 6.244998  , 6.32455532, 6.40312424, 6.4807407 ,\n",
       "        6.55743852, 6.63324958, 6.70820393, 6.78232998, 6.8556546 ,\n",
       "        6.92820323],\n",
       "       [7.        , 7.07106781, 7.14142843, 7.21110255, 7.28010989,\n",
       "        7.34846923, 7.41619849, 7.48331477, 7.54983444, 7.61577311,\n",
       "        7.68114575, 7.74596669, 7.81024968, 7.87400787, 7.93725393,\n",
       "        8.        ]])"
      ]
     },
     "execution_count": 52,
     "metadata": {},
     "output_type": "execute_result"
    }
   ],
   "source": [
    "np.arange(1,65).reshape(4,16)**0.5"
   ]
  },
  {
   "cell_type": "code",
   "execution_count": 56,
   "id": "dfcd7ef5",
   "metadata": {},
   "outputs": [
    {
     "name": "stdout",
     "output_type": "stream",
     "text": [
      "100000000\n"
     ]
    }
   ],
   "source": [
    "val=0\n",
    "for _ in range(100000000):\n",
    "    val+=1\n",
    "print(val)"
   ]
  },
  {
   "cell_type": "markdown",
   "id": "873cea0f",
   "metadata": {},
   "source": [
    "# Broadcasting\n",
    "\n",
    "an array with a unit dimension e.g. 1x4 is added to 4x4 then 1x4 is broadcasted \n"
   ]
  },
  {
   "cell_type": "code",
   "execution_count": null,
   "id": "e3ebbb6f",
   "metadata": {},
   "outputs": [],
   "source": [
    "np.arange(1,17).reshape(4,4)+np.array([1,2,3,4])"
   ]
  },
  {
   "cell_type": "code",
   "execution_count": 78,
   "id": "cd3ac160",
   "metadata": {},
   "outputs": [],
   "source": [
    "arr1=np.array(([1,2]))\n",
    "arr2=np.array(([1,2],[1,2],[1,2]))"
   ]
  },
  {
   "cell_type": "code",
   "execution_count": 81,
   "id": "e988baea",
   "metadata": {},
   "outputs": [
    {
     "data": {
      "text/plain": [
       "array([5, 5, 5])"
      ]
     },
     "execution_count": 81,
     "metadata": {},
     "output_type": "execute_result"
    }
   ],
   "source": [
    "arr2.dot(arr1)"
   ]
  },
  {
   "cell_type": "code",
   "execution_count": 80,
   "id": "cd852526",
   "metadata": {},
   "outputs": [
    {
     "data": {
      "text/plain": [
       "array([[1, 4],\n",
       "       [1, 4],\n",
       "       [1, 4]])"
      ]
     },
     "execution_count": 80,
     "metadata": {},
     "output_type": "execute_result"
    }
   ],
   "source": [
    "np.multiply(arr2,arr1)"
   ]
  },
  {
   "cell_type": "code",
   "execution_count": 82,
   "id": "5a467f83",
   "metadata": {},
   "outputs": [
    {
     "data": {
      "text/plain": [
       "array([[1, 4],\n",
       "       [1, 4],\n",
       "       [1, 4]])"
      ]
     },
     "execution_count": 82,
     "metadata": {},
     "output_type": "execute_result"
    }
   ],
   "source": [
    "arr1*arr2"
   ]
  },
  {
   "cell_type": "code",
   "execution_count": 85,
   "id": "4b6b59d0",
   "metadata": {},
   "outputs": [
    {
     "data": {
      "text/plain": [
       "array([[ 1,  2],\n",
       "       [ 3,  4],\n",
       "       [ 5,  6],\n",
       "       [ 7,  8],\n",
       "       [ 9, 10],\n",
       "       [11, 12],\n",
       "       [13, 14],\n",
       "       [15, 16]])"
      ]
     },
     "execution_count": 85,
     "metadata": {},
     "output_type": "execute_result"
    }
   ],
   "source": [
    "x=np.arange(1,17).reshape(8,2)\n",
    "x"
   ]
  },
  {
   "cell_type": "code",
   "execution_count": 89,
   "id": "5ab5bf85",
   "metadata": {},
   "outputs": [
    {
     "data": {
      "text/plain": [
       "array([[ 3],\n",
       "       [ 7],\n",
       "       [11],\n",
       "       [15]])"
      ]
     },
     "execution_count": 89,
     "metadata": {},
     "output_type": "execute_result"
    }
   ],
   "source": [
    "x[1::2,:1]"
   ]
  },
  {
   "cell_type": "code",
   "execution_count": 90,
   "id": "1b94cd9c",
   "metadata": {},
   "outputs": [
    {
     "data": {
      "text/plain": [
       "array([[ 1,  3,  5,  7,  9, 11, 13, 15],\n",
       "       [ 2,  4,  6,  8, 10, 12, 14, 16]])"
      ]
     },
     "execution_count": 90,
     "metadata": {},
     "output_type": "execute_result"
    }
   ],
   "source": [
    "x.transpose()"
   ]
  },
  {
   "cell_type": "code",
   "execution_count": 2,
   "id": "f2b4c4fb",
   "metadata": {},
   "outputs": [],
   "source": [
    "from numpy import linalg as lg\n",
    "import numpy as np"
   ]
  },
  {
   "cell_type": "code",
   "execution_count": 3,
   "id": "9a8ea120",
   "metadata": {},
   "outputs": [],
   "source": [
    "a=np.array([[2,4,6],[4,5,6],[3,1,2]])\n",
    "b=np.array([18,24,2])"
   ]
  },
  {
   "cell_type": "code",
   "execution_count": 4,
   "id": "b3977810",
   "metadata": {},
   "outputs": [
    {
     "data": {
      "text/plain": [
       "array([-0.66666667,  7.33333333, -1.66666667])"
      ]
     },
     "execution_count": 4,
     "metadata": {},
     "output_type": "execute_result"
    }
   ],
   "source": [
    "x=lg.solve(a,b)\n",
    "x"
   ]
  },
  {
   "cell_type": "code",
   "execution_count": 5,
   "id": "d8cac1be",
   "metadata": {},
   "outputs": [
    {
     "data": {
      "text/plain": [
       "array([[0.52982182, 0.16773174, 0.00138294, 0.72619722, 0.93416669,\n",
       "        0.9307877 , 0.30947413, 0.72038673, 0.88829902, 0.78462933],\n",
       "       [0.15884442, 0.65996803, 0.00595707, 0.01977627, 0.31327421,\n",
       "        0.65572213, 0.47750647, 0.70063209, 0.36396466, 0.86283063],\n",
       "       [0.6302647 , 0.76636405, 0.5286596 , 0.49109984, 0.24750593,\n",
       "        0.27735619, 0.66133388, 0.72060015, 0.00332635, 0.99917491],\n",
       "       [0.81648884, 0.60072826, 0.69800551, 0.44880432, 0.42092786,\n",
       "        0.22407363, 0.27084265, 0.76369767, 0.78797462, 0.51414067],\n",
       "       [0.31724493, 0.77955635, 0.61688222, 0.9245788 , 0.94672428,\n",
       "        0.72248396, 0.73244237, 0.20883817, 0.90784037, 0.56454766],\n",
       "       [0.20012387, 0.35774268, 0.11993893, 0.17187538, 0.90204336,\n",
       "        0.84925767, 0.41216135, 0.24985774, 0.28206077, 0.80084696],\n",
       "       [0.61867563, 0.75565208, 0.16773186, 0.11033125, 0.12389161,\n",
       "        0.20562934, 0.57845043, 0.66409942, 0.51655736, 0.95563535],\n",
       "       [0.02578098, 0.27227624, 0.63870601, 0.35108212, 0.79884316,\n",
       "        0.36226815, 0.23269054, 0.97586864, 0.6020188 , 0.70892464],\n",
       "       [0.95476193, 0.86166994, 0.61738533, 0.42389802, 0.3905727 ,\n",
       "        0.58430445, 0.5187905 , 0.07851106, 0.53504453, 0.36975086],\n",
       "       [0.2868084 , 0.82820011, 0.63030832, 0.58572111, 0.23195753,\n",
       "        0.64207928, 0.11320262, 0.00875272, 0.6792248 , 0.38831333]])"
      ]
     },
     "execution_count": 5,
     "metadata": {},
     "output_type": "execute_result"
    }
   ],
   "source": [
    "x=np.random.rand(10,10)\n",
    "x"
   ]
  },
  {
   "cell_type": "code",
   "execution_count": 21,
   "id": "45f58f5c",
   "metadata": {},
   "outputs": [
    {
     "data": {
      "text/plain": [
       "(array([1, 9, 7, 3, 9, 1, 4, 7, 0, 3]), array([7, 6, 8, 2, 2, 0, 2, 7, 3, 9]))"
      ]
     },
     "execution_count": 21,
     "metadata": {},
     "output_type": "execute_result"
    }
   ],
   "source": [
    "x=np.random.randint(0,10,10)\n",
    "y=np.random.randint(0,10,10)\n",
    "x,y"
   ]
  },
  {
   "cell_type": "code",
   "execution_count": 22,
   "id": "e488c9ba",
   "metadata": {},
   "outputs": [
    {
     "data": {
      "text/plain": [
       "10"
      ]
     },
     "execution_count": 22,
     "metadata": {},
     "output_type": "execute_result"
    }
   ],
   "source": [
    "len(x)"
   ]
  },
  {
   "cell_type": "code",
   "execution_count": 23,
   "id": "1cb9e3db",
   "metadata": {},
   "outputs": [],
   "source": [
    "first_names = [\"John\", \"Emma\", \"Michael\", \"Sophia\", \"William\", \"Olivia\", \"James\", \"Ava\", \"Alexander\", \"Isabella\"]\n",
    "last_names = [\"Smith\", \"Johnson\", \"Williams\", \"Brown\", \"Jones\", \"Garcia\", \"Davis\", \"Rodriguez\", \"Martinez\", \"Hernandez\"]"
   ]
  },
  {
   "cell_type": "code",
   "execution_count": 24,
   "id": "70762d22",
   "metadata": {},
   "outputs": [
    {
     "name": "stdout",
     "output_type": "stream",
     "text": [
      "Emma Rodriguez\n",
      "Isabella Davis\n",
      "Ava Martinez\n",
      "Sophia Williams\n",
      "Isabella Williams\n",
      "Emma Smith\n",
      "William Williams\n",
      "Ava Rodriguez\n",
      "John Brown\n",
      "Sophia Hernandez\n"
     ]
    }
   ],
   "source": [
    "for i,j in zip(x,y):\n",
    "    print(first_names[i],last_names[j])"
   ]
  },
  {
   "cell_type": "code",
   "execution_count": 57,
   "id": "151e5b32",
   "metadata": {},
   "outputs": [],
   "source": [
    "x=np.random.normal(0,1,100000)"
   ]
  },
  {
   "cell_type": "code",
   "execution_count": 6,
   "id": "86a14af3",
   "metadata": {},
   "outputs": [],
   "source": [
    "import matplotlib.pyplot as plt\n",
    "import numpy as np"
   ]
  },
  {
   "cell_type": "code",
   "execution_count": 58,
   "id": "689b8eaa",
   "metadata": {},
   "outputs": [
    {
     "data": {
      "text/plain": [
       "(array([1.4000e+01, 2.1000e+02, 2.4160e+03, 1.2121e+04, 2.9095e+04,\n",
       "        3.2980e+04, 1.7852e+04, 4.6790e+03, 5.9800e+02, 3.5000e+01]),\n",
       " array([-4.58602711, -3.6999814 , -2.81393568, -1.92788997, -1.04184426,\n",
       "        -0.15579855,  0.73024716,  1.61629287,  2.50233858,  3.38838429,\n",
       "         4.27443   ]),\n",
       " <BarContainer object of 10 artists>)"
      ]
     },
     "execution_count": 58,
     "metadata": {},
     "output_type": "execute_result"
    },
    {
     "data": {
      "image/png": "[encoded data removed]",
      "text/plain": [
       "<Figure size 640x480 with 1 Axes>"
      ]
     },
     "metadata": {},
     "output_type": "display_data"
    }
   ],
   "source": [
    "plt.hist(x)"
   ]
  },
  {
   "cell_type": "code",
   "execution_count": 60,
   "id": "2d723a63",
   "metadata": {},
   "outputs": [
    {
     "data": {
      "text/plain": [
       "(array([1., 0., 0., ..., 0., 0., 1.]),\n",
       " array([-4.58602711, -4.58514106, -4.58425501, ...,  4.27265791,\n",
       "         4.27354395,  4.27443   ]),\n",
       " <BarContainer object of 10000 artists>)"
      ]
     },
     "execution_count": 60,
     "metadata": {},
     "output_type": "execute_result"
    },
    {
     "data": {
      "image/png": "[encoded data removed]",
      "text/plain": [
       "<Figure size 640x480 with 1 Axes>"
      ]
     },
     "metadata": {},
     "output_type": "display_data"
    }
   ],
   "source": [
    "plt.hist(x,bins=10000)"
   ]
  },
  {
   "cell_type": "code",
   "execution_count": 65,
   "id": "15c3c830",
   "metadata": {},
   "outputs": [
    {
     "data": {
      "text/plain": [
       "(array([1.0000e+00, 1.0000e+00, 1.0000e+00, 1.0000e+00, 1.0000e+00,\n",
       "        1.0000e+00, 1.0000e+00, 1.0000e+00, 1.0000e+00, 1.0000e+00,\n",
       "        1.0000e+00, 1.0000e+00, 1.0000e+00, 1.0000e+00, 1.0000e+00,\n",
       "        1.0000e+00, 1.0000e+00, 1.0000e+00, 1.0000e+00, 1.0000e+00,\n",
       "        1.0000e+00, 1.0000e+00, 1.0000e+00, 1.0000e+00, 1.0000e+00,\n",
       "        1.0000e+00, 1.0000e+00, 1.0000e+00, 1.0000e+00, 1.0000e+00,\n",
       "        1.0000e+00, 1.0000e+00, 1.0000e+00, 1.0000e+00, 1.0000e+00,\n",
       "        1.0000e+00, 1.0000e+00, 2.0000e+00, 2.0000e+00, 2.0000e+00,\n",
       "        2.0000e+00, 2.0000e+00, 2.0000e+00, 2.0000e+00, 2.0000e+00,\n",
       "        3.0000e+00, 3.0000e+00, 3.0000e+00, 3.0000e+00, 3.0000e+00,\n",
       "        3.0000e+00, 3.0000e+00, 3.0000e+00, 3.0000e+00, 3.0000e+00,\n",
       "        3.0000e+00, 3.0000e+00, 3.0000e+00, 3.0000e+00, 4.0000e+00,\n",
       "        4.0000e+00, 4.0000e+00, 4.0000e+00, 4.0000e+00, 5.0000e+00,\n",
       "        5.0000e+00, 5.0000e+00, 5.0000e+00, 5.0000e+00, 5.0000e+00,\n",
       "        5.0000e+00, 5.0000e+00, 6.0000e+00, 6.0000e+00, 6.0000e+00,\n",
       "        6.0000e+00, 6.0000e+00, 6.0000e+00, 6.0000e+00, 6.0000e+00,\n",
       "        6.0000e+00, 8.0000e+00, 8.0000e+00, 8.0000e+00, 8.0000e+00,\n",
       "        8.0000e+00, 8.0000e+00, 9.0000e+00, 9.0000e+00, 9.0000e+00,\n",
       "        1.0000e+01, 1.0000e+01, 1.0000e+01, 1.1000e+01, 1.1000e+01,\n",
       "        1.3000e+01, 1.3000e+01, 1.4000e+01, 1.4000e+01, 1.4000e+01,\n",
       "        1.4000e+01, 1.4000e+01, 1.6000e+01, 1.6000e+01, 1.6000e+01,\n",
       "        1.6000e+01, 1.7000e+01, 1.8000e+01, 1.9000e+01, 2.0000e+01,\n",
       "        2.0000e+01, 2.0000e+01, 2.1000e+01, 2.1000e+01, 2.1000e+01,\n",
       "        2.2000e+01, 2.2000e+01, 2.3000e+01, 2.3000e+01, 2.3000e+01,\n",
       "        2.4000e+01, 2.4000e+01, 2.4000e+01, 2.4000e+01, 2.6000e+01,\n",
       "        2.7000e+01, 2.8000e+01, 2.8000e+01, 2.9000e+01, 3.1000e+01,\n",
       "        3.1000e+01, 3.2000e+01, 3.4000e+01, 3.4000e+01, 3.5000e+01,\n",
       "        3.5000e+01, 3.7000e+01, 3.8000e+01, 3.9000e+01, 4.0000e+01,\n",
       "        4.3000e+01, 4.3000e+01, 4.3000e+01, 4.5000e+01, 4.5000e+01,\n",
       "        4.7000e+01, 4.7000e+01, 5.0000e+01, 5.3000e+01, 5.8000e+01,\n",
       "        6.0000e+01, 6.1000e+01, 6.2000e+01, 6.4000e+01, 6.8000e+01,\n",
       "        7.1000e+01, 7.3000e+01, 7.5000e+01, 7.8000e+01, 7.9000e+01,\n",
       "        7.9000e+01, 8.1000e+01, 8.7000e+01, 8.8000e+01, 8.9000e+01,\n",
       "        9.3000e+01, 9.6000e+01, 9.9000e+01, 1.0000e+02, 1.0100e+02,\n",
       "        1.0300e+02, 1.0500e+02, 1.0800e+02, 1.1000e+02, 1.1100e+02,\n",
       "        1.1200e+02, 1.1600e+02, 1.2000e+02, 1.2500e+02, 1.3000e+02,\n",
       "        1.3500e+02, 1.3900e+02, 1.4100e+02, 1.4200e+02, 1.4600e+02,\n",
       "        1.4900e+02, 1.5200e+02, 1.5900e+02, 1.6500e+02, 1.7100e+02,\n",
       "        1.8000e+02, 1.8400e+02, 1.9100e+02, 1.9500e+02, 1.9800e+02,\n",
       "        2.0100e+02, 2.0700e+02, 2.1800e+02, 2.2100e+02, 2.2400e+02,\n",
       "        2.3100e+02, 2.3900e+02, 2.4800e+02, 2.5400e+02, 2.6200e+02,\n",
       "        2.6700e+02, 2.7200e+02, 2.8100e+02, 2.8600e+02, 2.9600e+02,\n",
       "        3.0100e+02, 3.1100e+02, 3.2200e+02, 3.3200e+02, 3.3900e+02,\n",
       "        3.4700e+02, 3.6000e+02, 3.6800e+02, 3.7800e+02, 3.8600e+02,\n",
       "        3.9300e+02, 4.0500e+02, 4.1600e+02, 4.2700e+02, 4.4300e+02,\n",
       "        4.5500e+02, 4.6300e+02, 4.6900e+02, 4.8200e+02, 4.9200e+02,\n",
       "        5.1400e+02, 5.2400e+02, 5.4400e+02, 5.5500e+02, 5.7300e+02,\n",
       "        5.8700e+02, 6.0100e+02, 6.1800e+02, 6.3700e+02, 6.5400e+02,\n",
       "        6.7400e+02, 6.9500e+02, 7.2600e+02, 7.4000e+02, 7.6300e+02,\n",
       "        7.7800e+02, 8.0600e+02, 8.2400e+02, 8.3600e+02, 8.5800e+02,\n",
       "        8.8100e+02, 9.0400e+02, 9.2400e+02, 9.4800e+02, 9.6400e+02,\n",
       "        9.8600e+02, 1.0040e+03, 1.0250e+03, 1.0610e+03, 1.0870e+03,\n",
       "        1.1110e+03, 1.1390e+03, 1.1640e+03, 1.1850e+03, 1.2140e+03,\n",
       "        1.2360e+03, 1.2740e+03, 1.3020e+03, 1.3290e+03, 1.3760e+03,\n",
       "        1.4000e+03, 1.4310e+03, 1.4630e+03, 1.5010e+03, 1.5350e+03,\n",
       "        1.5730e+03, 1.6060e+03, 1.6440e+03, 1.6880e+03, 1.7240e+03,\n",
       "        1.7660e+03, 1.7960e+03, 1.8360e+03, 1.8790e+03, 1.9240e+03,\n",
       "        1.9580e+03, 1.9930e+03, 2.0440e+03, 2.0910e+03, 2.1370e+03,\n",
       "        2.1790e+03, 2.2310e+03, 2.2770e+03, 2.3220e+03, 2.3780e+03,\n",
       "        2.4420e+03, 2.4900e+03, 2.5370e+03, 2.5830e+03, 2.6400e+03,\n",
       "        2.6960e+03, 2.7650e+03, 2.8210e+03, 2.8740e+03, 2.9330e+03,\n",
       "        2.9950e+03, 3.0610e+03, 3.1200e+03, 3.1880e+03, 3.2550e+03,\n",
       "        3.3200e+03, 3.3830e+03, 3.4440e+03, 3.5070e+03, 3.5810e+03,\n",
       "        3.6540e+03, 3.7240e+03, 3.8060e+03, 3.8770e+03, 3.9560e+03,\n",
       "        4.0360e+03, 4.1090e+03, 4.1800e+03, 4.2590e+03, 4.3340e+03,\n",
       "        4.4250e+03, 4.5130e+03, 4.6060e+03, 4.6780e+03, 4.7700e+03,\n",
       "        4.8630e+03, 4.9710e+03, 5.0500e+03, 5.1210e+03, 5.2200e+03,\n",
       "        5.3230e+03, 5.4150e+03, 5.5250e+03, 5.6210e+03, 5.7280e+03,\n",
       "        5.8310e+03, 5.9310e+03, 6.0460e+03, 6.1740e+03, 6.2940e+03,\n",
       "        6.4020e+03, 6.4960e+03, 6.5950e+03, 6.7020e+03, 6.8120e+03,\n",
       "        6.9140e+03, 7.0360e+03, 7.1630e+03, 7.2750e+03, 7.3950e+03,\n",
       "        7.5100e+03, 7.6250e+03, 7.7700e+03, 7.8940e+03, 8.0090e+03,\n",
       "        8.1460e+03, 8.2750e+03, 8.4260e+03, 8.5670e+03, 8.6930e+03,\n",
       "        8.8340e+03, 8.9870e+03, 9.1310e+03, 9.2840e+03, 9.4270e+03,\n",
       "        9.5780e+03, 9.7200e+03, 9.8720e+03, 1.0045e+04, 1.0208e+04,\n",
       "        1.0377e+04, 1.0549e+04, 1.0701e+04, 1.0869e+04, 1.1042e+04,\n",
       "        1.1203e+04, 1.1381e+04, 1.1554e+04, 1.1742e+04, 1.1912e+04,\n",
       "        1.2102e+04, 1.2261e+04, 1.2425e+04, 1.2624e+04, 1.2823e+04,\n",
       "        1.3003e+04, 1.3187e+04, 1.3367e+04, 1.3591e+04, 1.3799e+04,\n",
       "        1.3994e+04, 1.4168e+04, 1.4356e+04, 1.4546e+04, 1.4761e+04,\n",
       "        1.4974e+04, 1.5189e+04, 1.5424e+04, 1.5622e+04, 1.5842e+04,\n",
       "        1.6061e+04, 1.6292e+04, 1.6533e+04, 1.6768e+04, 1.6994e+04,\n",
       "        1.7253e+04, 1.7489e+04, 1.7745e+04, 1.7965e+04, 1.8205e+04,\n",
       "        1.8440e+04, 1.8678e+04, 1.8915e+04, 1.9154e+04, 1.9397e+04,\n",
       "        1.9628e+04, 1.9873e+04, 2.0134e+04, 2.0366e+04, 2.0630e+04,\n",
       "        2.0893e+04, 2.1121e+04, 2.1368e+04, 2.1606e+04, 2.1856e+04,\n",
       "        2.2108e+04, 2.2362e+04, 2.2640e+04, 2.2894e+04, 2.3146e+04,\n",
       "        2.3452e+04, 2.3690e+04, 2.3979e+04, 2.4257e+04, 2.4554e+04,\n",
       "        2.4864e+04, 2.5135e+04, 2.5408e+04, 2.5677e+04, 2.5960e+04,\n",
       "        2.6214e+04, 2.6504e+04, 2.6833e+04, 2.7141e+04, 2.7437e+04,\n",
       "        2.7737e+04, 2.8046e+04, 2.8377e+04, 2.8667e+04, 2.8984e+04,\n",
       "        2.9287e+04, 2.9577e+04, 2.9886e+04, 3.0174e+04, 3.0452e+04,\n",
       "        3.0734e+04, 3.1071e+04, 3.1381e+04, 3.1665e+04, 3.1973e+04,\n",
       "        3.2292e+04, 3.2633e+04, 3.2950e+04, 3.3273e+04, 3.3591e+04,\n",
       "        3.3922e+04, 3.4266e+04, 3.4609e+04, 3.4970e+04, 3.5284e+04,\n",
       "        3.5610e+04, 3.5963e+04, 3.6269e+04, 3.6596e+04, 3.6931e+04,\n",
       "        3.7302e+04, 3.7701e+04, 3.8052e+04, 3.8366e+04, 3.8685e+04,\n",
       "        3.9018e+04, 3.9396e+04, 3.9754e+04, 4.0102e+04, 4.0424e+04,\n",
       "        4.0745e+04, 4.1099e+04, 4.1443e+04, 4.1784e+04, 4.2098e+04,\n",
       "        4.2431e+04, 4.2816e+04, 4.3163e+04, 4.3538e+04, 4.3856e+04,\n",
       "        4.4181e+04, 4.4558e+04, 4.4903e+04, 4.5231e+04, 4.5572e+04,\n",
       "        4.5906e+04, 4.6252e+04, 4.6607e+04, 4.6953e+04, 4.7313e+04,\n",
       "        4.7694e+04, 4.8076e+04, 4.8399e+04, 4.8784e+04, 4.9150e+04,\n",
       "        4.9526e+04, 4.9850e+04, 5.0236e+04, 5.0536e+04, 5.0915e+04,\n",
       "        5.1273e+04, 5.1613e+04, 5.1971e+04, 5.2324e+04, 5.2662e+04,\n",
       "        5.3021e+04, 5.3348e+04, 5.3703e+04, 5.4057e+04, 5.4390e+04,\n",
       "        5.4747e+04, 5.5059e+04, 5.5429e+04, 5.5794e+04, 5.6133e+04,\n",
       "        5.6514e+04, 5.6881e+04, 5.7217e+04, 5.7572e+04, 5.7915e+04,\n",
       "        5.8270e+04, 5.8644e+04, 5.8989e+04, 5.9344e+04, 5.9657e+04,\n",
       "        6.0017e+04, 6.0378e+04, 6.0718e+04, 6.1083e+04, 6.1428e+04,\n",
       "        6.1754e+04, 6.2110e+04, 6.2459e+04, 6.2796e+04, 6.3124e+04,\n",
       "        6.3448e+04, 6.3770e+04, 6.4107e+04, 6.4450e+04, 6.4821e+04,\n",
       "        6.5183e+04, 6.5484e+04, 6.5824e+04, 6.6156e+04, 6.6477e+04,\n",
       "        6.6781e+04, 6.7083e+04, 6.7394e+04, 6.7704e+04, 6.8007e+04,\n",
       "        6.8314e+04, 6.8618e+04, 6.8904e+04, 6.9227e+04, 6.9550e+04,\n",
       "        6.9848e+04, 7.0166e+04, 7.0492e+04, 7.0799e+04, 7.1100e+04,\n",
       "        7.1404e+04, 7.1701e+04, 7.1988e+04, 7.2292e+04, 7.2599e+04,\n",
       "        7.2895e+04, 7.3181e+04, 7.3500e+04, 7.3807e+04, 7.4115e+04,\n",
       "        7.4420e+04, 7.4674e+04, 7.4951e+04, 7.5210e+04, 7.5493e+04,\n",
       "        7.5743e+04, 7.6001e+04, 7.6244e+04, 7.6541e+04, 7.6836e+04,\n",
       "        7.7116e+04, 7.7354e+04, 7.7617e+04, 7.7869e+04, 7.8127e+04,\n",
       "        7.8397e+04, 7.8636e+04, 7.8914e+04, 7.9196e+04, 7.9465e+04,\n",
       "        7.9709e+04, 7.9959e+04, 8.0179e+04, 8.0419e+04, 8.0665e+04,\n",
       "        8.0884e+04, 8.1145e+04, 8.1400e+04, 8.1603e+04, 8.1836e+04,\n",
       "        8.2072e+04, 8.2315e+04, 8.2540e+04, 8.2765e+04, 8.2968e+04,\n",
       "        8.3226e+04, 8.3452e+04, 8.3678e+04, 8.3891e+04, 8.4118e+04,\n",
       "        8.4323e+04, 8.4535e+04, 8.4741e+04, 8.4954e+04, 8.5175e+04,\n",
       "        8.5370e+04, 8.5594e+04, 8.5775e+04, 8.5989e+04, 8.6189e+04,\n",
       "        8.6394e+04, 8.6628e+04, 8.6830e+04, 8.6991e+04, 8.7174e+04,\n",
       "        8.7356e+04, 8.7553e+04, 8.7767e+04, 8.7954e+04, 8.8119e+04,\n",
       "        8.8278e+04, 8.8413e+04, 8.8586e+04, 8.8778e+04, 8.8946e+04,\n",
       "        8.9115e+04, 8.9269e+04, 8.9416e+04, 8.9584e+04, 8.9749e+04,\n",
       "        8.9911e+04, 9.0064e+04, 9.0218e+04, 9.0372e+04, 9.0527e+04,\n",
       "        9.0687e+04, 9.0845e+04, 9.0983e+04, 9.1106e+04, 9.1248e+04,\n",
       "        9.1405e+04, 9.1535e+04, 9.1679e+04, 9.1806e+04, 9.1955e+04,\n",
       "        9.2065e+04, 9.2183e+04, 9.2313e+04, 9.2445e+04, 9.2570e+04,\n",
       "        9.2693e+04, 9.2822e+04, 9.2942e+04, 9.3047e+04, 9.3173e+04,\n",
       "        9.3260e+04, 9.3370e+04, 9.3483e+04, 9.3590e+04, 9.3692e+04,\n",
       "        9.3807e+04, 9.3898e+04, 9.4017e+04, 9.4132e+04, 9.4206e+04,\n",
       "        9.4296e+04, 9.4408e+04, 9.4505e+04, 9.4596e+04, 9.4688e+04,\n",
       "        9.4785e+04, 9.4889e+04, 9.4968e+04, 9.5046e+04, 9.5142e+04,\n",
       "        9.5230e+04, 9.5308e+04, 9.5380e+04, 9.5455e+04, 9.5535e+04,\n",
       "        9.5634e+04, 9.5710e+04, 9.5799e+04, 9.5862e+04, 9.5937e+04,\n",
       "        9.6017e+04, 9.6100e+04, 9.6162e+04, 9.6233e+04, 9.6317e+04,\n",
       "        9.6384e+04, 9.6473e+04, 9.6535e+04, 9.6608e+04, 9.6679e+04,\n",
       "        9.6748e+04, 9.6815e+04, 9.6877e+04, 9.6945e+04, 9.6999e+04,\n",
       "        9.7064e+04, 9.7130e+04, 9.7192e+04, 9.7253e+04, 9.7316e+04,\n",
       "        9.7370e+04, 9.7423e+04, 9.7488e+04, 9.7546e+04, 9.7602e+04,\n",
       "        9.7655e+04, 9.7703e+04, 9.7753e+04, 9.7809e+04, 9.7850e+04,\n",
       "        9.7896e+04, 9.7940e+04, 9.7983e+04, 9.8027e+04, 9.8075e+04,\n",
       "        9.8118e+04, 9.8151e+04, 9.8182e+04, 9.8212e+04, 9.8249e+04,\n",
       "        9.8292e+04, 9.8326e+04, 9.8368e+04, 9.8404e+04, 9.8438e+04,\n",
       "        9.8472e+04, 9.8505e+04, 9.8530e+04, 9.8564e+04, 9.8601e+04,\n",
       "        9.8630e+04, 9.8656e+04, 9.8684e+04, 9.8712e+04, 9.8742e+04,\n",
       "        9.8768e+04, 9.8794e+04, 9.8820e+04, 9.8845e+04, 9.8867e+04,\n",
       "        9.8897e+04, 9.8915e+04, 9.8942e+04, 9.8963e+04, 9.8982e+04,\n",
       "        9.9000e+04, 9.9026e+04, 9.9053e+04, 9.9069e+04, 9.9096e+04,\n",
       "        9.9110e+04, 9.9133e+04, 9.9154e+04, 9.9170e+04, 9.9188e+04,\n",
       "        9.9210e+04, 9.9232e+04, 9.9250e+04, 9.9266e+04, 9.9286e+04,\n",
       "        9.9300e+04, 9.9320e+04, 9.9337e+04, 9.9349e+04, 9.9367e+04,\n",
       "        9.9384e+04, 9.9399e+04, 9.9409e+04, 9.9425e+04, 9.9431e+04,\n",
       "        9.9446e+04, 9.9463e+04, 9.9479e+04, 9.9496e+04, 9.9515e+04,\n",
       "        9.9529e+04, 9.9538e+04, 9.9551e+04, 9.9560e+04, 9.9570e+04,\n",
       "        9.9580e+04, 9.9594e+04, 9.9605e+04, 9.9619e+04, 9.9627e+04,\n",
       "        9.9638e+04, 9.9649e+04, 9.9664e+04, 9.9680e+04, 9.9690e+04,\n",
       "        9.9697e+04, 9.9708e+04, 9.9717e+04, 9.9724e+04, 9.9731e+04,\n",
       "        9.9737e+04, 9.9745e+04, 9.9753e+04, 9.9758e+04, 9.9763e+04,\n",
       "        9.9768e+04, 9.9772e+04, 9.9777e+04, 9.9780e+04, 9.9787e+04,\n",
       "        9.9791e+04, 9.9798e+04, 9.9805e+04, 9.9808e+04, 9.9815e+04,\n",
       "        9.9820e+04, 9.9824e+04, 9.9830e+04, 9.9834e+04, 9.9840e+04,\n",
       "        9.9848e+04, 9.9853e+04, 9.9856e+04, 9.9857e+04, 9.9860e+04,\n",
       "        9.9864e+04, 9.9867e+04, 9.9872e+04, 9.9878e+04, 9.9882e+04,\n",
       "        9.9886e+04, 9.9891e+04, 9.9895e+04, 9.9897e+04, 9.9902e+04,\n",
       "        9.9907e+04, 9.9914e+04, 9.9917e+04, 9.9918e+04, 9.9919e+04,\n",
       "        9.9923e+04, 9.9923e+04, 9.9925e+04, 9.9925e+04, 9.9927e+04,\n",
       "        9.9927e+04, 9.9927e+04, 9.9933e+04, 9.9933e+04, 9.9935e+04,\n",
       "        9.9937e+04, 9.9937e+04, 9.9938e+04, 9.9942e+04, 9.9943e+04,\n",
       "        9.9944e+04, 9.9948e+04, 9.9950e+04, 9.9953e+04, 9.9955e+04,\n",
       "        9.9955e+04, 9.9960e+04, 9.9960e+04, 9.9961e+04, 9.9961e+04,\n",
       "        9.9961e+04, 9.9962e+04, 9.9962e+04, 9.9964e+04, 9.9965e+04,\n",
       "        9.9968e+04, 9.9968e+04, 9.9969e+04, 9.9969e+04, 9.9970e+04,\n",
       "        9.9970e+04, 9.9971e+04, 9.9971e+04, 9.9973e+04, 9.9973e+04,\n",
       "        9.9973e+04, 9.9973e+04, 9.9974e+04, 9.9975e+04, 9.9975e+04,\n",
       "        9.9975e+04, 9.9976e+04, 9.9976e+04, 9.9977e+04, 9.9977e+04,\n",
       "        9.9978e+04, 9.9978e+04, 9.9979e+04, 9.9980e+04, 9.9982e+04,\n",
       "        9.9982e+04, 9.9982e+04, 9.9983e+04, 9.9984e+04, 9.9984e+04,\n",
       "        9.9984e+04, 9.9984e+04, 9.9984e+04, 9.9985e+04, 9.9986e+04,\n",
       "        9.9988e+04, 9.9989e+04, 9.9989e+04, 9.9990e+04, 9.9991e+04,\n",
       "        9.9991e+04, 9.9992e+04, 9.9992e+04, 9.9993e+04, 9.9993e+04,\n",
       "        9.9993e+04, 9.9993e+04, 9.9993e+04, 9.9993e+04, 9.9993e+04,\n",
       "        9.9993e+04, 9.9994e+04, 9.9994e+04, 9.9994e+04, 9.9994e+04,\n",
       "        9.9995e+04, 9.9995e+04, 9.9995e+04, 9.9995e+04, 9.9995e+04,\n",
       "        9.9995e+04, 9.9995e+04, 9.9995e+04, 9.9995e+04, 9.9995e+04,\n",
       "        9.9995e+04, 9.9995e+04, 9.9995e+04, 9.9995e+04, 9.9995e+04,\n",
       "        9.9996e+04, 9.9996e+04, 9.9996e+04, 9.9996e+04, 9.9996e+04,\n",
       "        9.9996e+04, 9.9996e+04, 9.9996e+04, 9.9998e+04, 9.9999e+04,\n",
       "        9.9999e+04, 9.9999e+04, 9.9999e+04, 9.9999e+04, 9.9999e+04,\n",
       "        9.9999e+04, 9.9999e+04, 9.9999e+04, 9.9999e+04, 9.9999e+04,\n",
       "        9.9999e+04, 9.9999e+04, 9.9999e+04, 9.9999e+04, 9.9999e+04,\n",
       "        9.9999e+04, 9.9999e+04, 9.9999e+04, 9.9999e+04, 1.0000e+05]),\n",
       " array([-4.58602711, -4.57716665, -4.56830619, ...,  4.25670908,\n",
       "         4.26556954,  4.27443   ]),\n",
       " <BarContainer object of 1000 artists>)"
      ]
     },
     "execution_count": 65,
     "metadata": {},
     "output_type": "execute_result"
    },
    {
     "data": {
      "image/png": "[encoded data removed]",
      "text/plain": [
       "<Figure size 640x480 with 1 Axes>"
      ]
     },
     "metadata": {},
     "output_type": "display_data"
    }
   ],
   "source": [
    "plt.hist(x,cumulative=True,bins=1000)"
   ]
  },
  {
   "cell_type": "markdown",
   "id": "7e5810be",
   "metadata": {},
   "source": [
    "generate population table"
   ]
  },
  {
   "cell_type": "code",
   "execution_count": 7,
   "id": "06d27a25",
   "metadata": {},
   "outputs": [],
   "source": [
    "pop=np.random.randint(18,100,1000000)\n",
    "adj=np.random.rand(1000000)*100\n",
    "a=np.round(adj)"
   ]
  },
  {
   "cell_type": "code",
   "execution_count": 8,
   "id": "173118f7",
   "metadata": {},
   "outputs": [],
   "source": [
    "pop.sort()\n",
    "adj.sort()"
   ]
  },
  {
   "cell_type": "code",
   "execution_count": 13,
   "id": "494981df",
   "metadata": {
    "scrolled": false
   },
   "outputs": [
    {
     "data": {
      "text/plain": [
       "(array([13138., 14568., 14274., 13227., 14186., 13683., 13913., 14003.,\n",
       "        14075., 13695., 14520., 13626., 14223., 14301., 14432., 13778.,\n",
       "        14204., 13165., 14190., 13608., 14500., 14470., 13650., 13441.,\n",
       "        14190., 13952., 13667., 13436., 13556., 13634., 12435., 13114.,\n",
       "        12732., 12219., 11649., 11106., 11893., 11165., 10684., 10956.,\n",
       "        11602.,  9331., 10347., 10027., 10409.,  9183.,  9539.,  9081.,\n",
       "         9111.,  9086.,  9727.,  8141.,  8791.,  7647.,  8868.,  7587.,\n",
       "         8009.,  8443.,  6852.,  7713.,  7309.,  7457.,  6669.,  7174.,\n",
       "         7222.,  6724.,  7141.,  6082.,  5799.,  6590.,  5976.,  5637.,\n",
       "         6155.,  5664.,  5503.,  5767.,  5538.,  5352.,  5451.,  5090.,\n",
       "         5257.,  5018.,  5044.,  3990.,  5181.,  4372.,  4387.,  4364.,\n",
       "         4297.,  4211.,  4217.,  3335.,  3814.,  3983.,  3909.,  3742.,\n",
       "         4095.,  2955.,  3476.,  3256.,  3751.,  3149.,  2876.,  3008.,\n",
       "         2647.,  3392.,  2994.,  2053.,  2776.,  2893.,  2416.,  2179.,\n",
       "         2354.,  2257.,  2529.,  2194.,  1477.,  2091.,  2269.,  1699.,\n",
       "         1493.,  1964.,  1680.,  1452.,  1457.,  1409.,  1965.,   774.,\n",
       "         1172.,  1694.,  1320.,   440.,  1462.,  1451.,    50.,  1237.,\n",
       "         1170.,    64.,   931.,   894.,    67.,   737.,   665.,    61.,\n",
       "          446.,   474.,    51.,   236.,   170.,    55.]),\n",
       " array([   0.,   66.,  132.,  198.,  264.,  330.,  396.,  462.,  528.,\n",
       "         594.,  660.,  726.,  792.,  858.,  924.,  990., 1056., 1122.,\n",
       "        1188., 1254., 1320., 1386., 1452., 1518., 1584., 1650., 1716.,\n",
       "        1782., 1848., 1914., 1980., 2046., 2112., 2178., 2244., 2310.,\n",
       "        2376., 2442., 2508., 2574., 2640., 2706., 2772., 2838., 2904.,\n",
       "        2970., 3036., 3102., 3168., 3234., 3300., 3366., 3432., 3498.,\n",
       "        3564., 3630., 3696., 3762., 3828., 3894., 3960., 4026., 4092.,\n",
       "        4158., 4224., 4290., 4356., 4422., 4488., 4554., 4620., 4686.,\n",
       "        4752., 4818., 4884., 4950., 5016., 5082., 5148., 5214., 5280.,\n",
       "        5346., 5412., 5478., 5544., 5610., 5676., 5742., 5808., 5874.,\n",
       "        5940., 6006., 6072., 6138., 6204., 6270., 6336., 6402., 6468.,\n",
       "        6534., 6600., 6666., 6732., 6798., 6864., 6930., 6996., 7062.,\n",
       "        7128., 7194., 7260., 7326., 7392., 7458., 7524., 7590., 7656.,\n",
       "        7722., 7788., 7854., 7920., 7986., 8052., 8118., 8184., 8250.,\n",
       "        8316., 8382., 8448., 8514., 8580., 8646., 8712., 8778., 8844.,\n",
       "        8910., 8976., 9042., 9108., 9174., 9240., 9306., 9372., 9438.,\n",
       "        9504., 9570., 9636., 9702., 9768., 9834., 9900.]),\n",
       " <BarContainer object of 150 artists>)"
      ]
     },
     "execution_count": 13,
     "metadata": {},
     "output_type": "execute_result"
    },
    {
     "data": {
      "image/png": "[encoded data removed]",
      "text/plain": [
       "<Figure size 640x480 with 1 Axes>"
      ]
     },
     "metadata": {},
     "output_type": "display_data"
    }
   ],
   "source": [
    "plt.hist((pop*a),150)"
   ]
  },
  {
   "cell_type": "code",
   "execution_count": 51,
   "id": "fdf59464",
   "metadata": {},
   "outputs": [
    {
     "data": {
      "text/plain": [
       "(array([0.03713415, 0.        , 0.        , 0.07746341, 0.        ,\n",
       "        0.        , 0.08089939, 0.        , 0.        , 0.07321037,\n",
       "        0.        , 0.        , 0.08018598, 0.        , 0.        ,\n",
       "        0.07416159, 0.        , 0.        , 0.08131707, 0.        ,\n",
       "        0.        , 0.07636585, 0.        , 0.        , 0.07923171,\n",
       "        0.        , 0.        , 0.07459146, 0.        , 0.        ,\n",
       "        0.08256098, 0.        , 0.        , 0.07450915, 0.        ,\n",
       "        0.        , 0.07858841, 0.        , 0.        , 0.07481402,\n",
       "        0.        , 0.        , 0.07926829, 0.        , 0.        ,\n",
       "        0.07354878, 0.        , 0.        , 0.07910061, 0.        ,\n",
       "        0.        , 0.06403354, 0.        , 0.        , 0.07362195,\n",
       "        0.        , 0.        , 0.0615    , 0.        , 0.        ,\n",
       "        0.06797866, 0.        , 0.        , 0.        , 0.05803963,\n",
       "        0.        , 0.        , 0.06331707, 0.        , 0.        ,\n",
       "        0.05580793, 0.        , 0.        , 0.05562195, 0.        ,\n",
       "        0.        , 0.05041159, 0.        , 0.        , 0.05287805,\n",
       "        0.        , 0.        , 0.0496372 , 0.        , 0.        ,\n",
       "        0.05137195, 0.        , 0.        , 0.04632622, 0.        ,\n",
       "        0.        , 0.04772866, 0.        , 0.        , 0.0404878 ,\n",
       "        0.        , 0.        , 0.04382927, 0.        , 0.        ,\n",
       "        0.0411372 , 0.        , 0.        , 0.04079268, 0.        ,\n",
       "        0.        , 0.03585061, 0.        , 0.        , 0.04020122,\n",
       "        0.        , 0.        , 0.03353354, 0.        , 0.        ,\n",
       "        0.03816768, 0.        , 0.        , 0.03022561, 0.        ,\n",
       "        0.        , 0.03458537, 0.        , 0.        , 0.        ,\n",
       "        0.03002744, 0.        , 0.        , 0.03177134, 0.        ,\n",
       "        0.        , 0.02744817, 0.        , 0.        , 0.03082927,\n",
       "        0.        , 0.        , 0.02480183, 0.        , 0.        ,\n",
       "        0.02834451, 0.        , 0.        , 0.02469512, 0.        ,\n",
       "        0.        , 0.02290854, 0.        , 0.        , 0.02383537,\n",
       "        0.        , 0.        , 0.02227439, 0.        , 0.        ,\n",
       "        0.02285366, 0.        , 0.        , 0.01986585, 0.        ,\n",
       "        0.        , 0.01985061, 0.        , 0.        , 0.01883841,\n",
       "        0.        , 0.        , 0.01835366, 0.        , 0.        ,\n",
       "        0.01702439, 0.        , 0.        , 0.01762195, 0.        ,\n",
       "        0.        , 0.01523171, 0.        , 0.        , 0.01610061,\n",
       "        0.        , 0.        , 0.01418293, 0.        , 0.        ,\n",
       "        0.01256402, 0.        , 0.        , 0.        , 0.01408232,\n",
       "        0.        , 0.        , 0.01070732, 0.        , 0.        ,\n",
       "        0.01267378, 0.        , 0.        , 0.01090549, 0.        ,\n",
       "        0.        , 0.00906098, 0.        , 0.        , 0.01062195,\n",
       "        0.        , 0.        , 0.00794817, 0.        , 0.        ,\n",
       "        0.00720122, 0.        , 0.        , 0.00908232, 0.        ,\n",
       "        0.        , 0.00650915, 0.        , 0.        , 0.00536585,\n",
       "        0.        , 0.        , 0.00543902, 0.        , 0.        ,\n",
       "        0.00736585, 0.        , 0.        , 0.00356707, 0.        ,\n",
       "        0.        , 0.00303354, 0.        , 0.        , 0.00272561,\n",
       "        0.        , 0.        , 0.00447866, 0.        , 0.        ,\n",
       "        0.00154573, 0.        , 0.        , 0.00144512, 0.        ,\n",
       "        0.        , 0.000875  , 0.        , 0.        , 0.00068598]),\n",
       " array([ 0.   ,  0.328,  0.656,  0.984,  1.312,  1.64 ,  1.968,  2.296,\n",
       "         2.624,  2.952,  3.28 ,  3.608,  3.936,  4.264,  4.592,  4.92 ,\n",
       "         5.248,  5.576,  5.904,  6.232,  6.56 ,  6.888,  7.216,  7.544,\n",
       "         7.872,  8.2  ,  8.528,  8.856,  9.184,  9.512,  9.84 , 10.168,\n",
       "        10.496, 10.824, 11.152, 11.48 , 11.808, 12.136, 12.464, 12.792,\n",
       "        13.12 , 13.448, 13.776, 14.104, 14.432, 14.76 , 15.088, 15.416,\n",
       "        15.744, 16.072, 16.4  , 16.728, 17.056, 17.384, 17.712, 18.04 ,\n",
       "        18.368, 18.696, 19.024, 19.352, 19.68 , 20.008, 20.336, 20.664,\n",
       "        20.992, 21.32 , 21.648, 21.976, 22.304, 22.632, 22.96 , 23.288,\n",
       "        23.616, 23.944, 24.272, 24.6  , 24.928, 25.256, 25.584, 25.912,\n",
       "        26.24 , 26.568, 26.896, 27.224, 27.552, 27.88 , 28.208, 28.536,\n",
       "        28.864, 29.192, 29.52 , 29.848, 30.176, 30.504, 30.832, 31.16 ,\n",
       "        31.488, 31.816, 32.144, 32.472, 32.8  , 33.128, 33.456, 33.784,\n",
       "        34.112, 34.44 , 34.768, 35.096, 35.424, 35.752, 36.08 , 36.408,\n",
       "        36.736, 37.064, 37.392, 37.72 , 38.048, 38.376, 38.704, 39.032,\n",
       "        39.36 , 39.688, 40.016, 40.344, 40.672, 41.   , 41.328, 41.656,\n",
       "        41.984, 42.312, 42.64 , 42.968, 43.296, 43.624, 43.952, 44.28 ,\n",
       "        44.608, 44.936, 45.264, 45.592, 45.92 , 46.248, 46.576, 46.904,\n",
       "        47.232, 47.56 , 47.888, 48.216, 48.544, 48.872, 49.2  , 49.528,\n",
       "        49.856, 50.184, 50.512, 50.84 , 51.168, 51.496, 51.824, 52.152,\n",
       "        52.48 , 52.808, 53.136, 53.464, 53.792, 54.12 , 54.448, 54.776,\n",
       "        55.104, 55.432, 55.76 , 56.088, 56.416, 56.744, 57.072, 57.4  ,\n",
       "        57.728, 58.056, 58.384, 58.712, 59.04 , 59.368, 59.696, 60.024,\n",
       "        60.352, 60.68 , 61.008, 61.336, 61.664, 61.992, 62.32 , 62.648,\n",
       "        62.976, 63.304, 63.632, 63.96 , 64.288, 64.616, 64.944, 65.272,\n",
       "        65.6  , 65.928, 66.256, 66.584, 66.912, 67.24 , 67.568, 67.896,\n",
       "        68.224, 68.552, 68.88 , 69.208, 69.536, 69.864, 70.192, 70.52 ,\n",
       "        70.848, 71.176, 71.504, 71.832, 72.16 , 72.488, 72.816, 73.144,\n",
       "        73.472, 73.8  , 74.128, 74.456, 74.784, 75.112, 75.44 , 75.768,\n",
       "        76.096, 76.424, 76.752, 77.08 , 77.408, 77.736, 78.064, 78.392,\n",
       "        78.72 , 79.048, 79.376, 79.704, 80.032, 80.36 , 80.688, 81.016,\n",
       "        81.344, 81.672, 82.   ]),\n",
       " <BarContainer object of 250 artists>)"
      ]
     },
     "execution_count": 51,
     "metadata": {},
     "output_type": "execute_result"
    },
    {
     "data": {
      "image/png": "[encoded data removed]",
      "text/plain": [
       "<Figure size 640x480 with 1 Axes>"
      ]
     },
     "metadata": {},
     "output_type": "display_data"
    }
   ],
   "source": [
    "plt.hist(((pop*a)/120).round(),density=True,bins=250)"
   ]
  },
  {
   "cell_type": "code",
   "execution_count": null,
   "id": "51f5b200",
   "metadata": {},
   "outputs": [],
   "source": []
  }
 ],
 "metadata": {
  "kernelspec": {
   "display_name": "Python 3 (ipykernel)",
   "language": "python",
   "name": "python3"
  },
  "language_info": {
   "codemirror_mode": {
    "name": "ipython",
    "version": 3
   },
   "file_extension": ".py",
   "mimetype": "text/x-python",
   "name": "python",
   "nbconvert_exporter": "python",
   "pygments_lexer": "ipython3",
   "version": "3.9.16"
  }
 },
 "nbformat": 4,
 "nbformat_minor": 5
}
