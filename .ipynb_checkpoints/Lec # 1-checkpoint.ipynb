{
 "cells": [
  {
   "cell_type": "markdown",
   "id": "d14b31da",
   "metadata": {},
   "source": [
    "# Introduction to python"
   ]
  },
  {
   "cell_type": "code",
   "execution_count": 2,
   "id": "4ce6a9d5",
   "metadata": {},
   "outputs": [],
   "source": [
    "#dynamically typed\n",
    "x=123"
   ]
  },
  {
   "cell_type": "code",
   "execution_count": 3,
   "id": "e3374123",
   "metadata": {},
   "outputs": [
    {
     "name": "stdout",
     "output_type": "stream",
     "text": [
      "123\n"
     ]
    }
   ],
   "source": [
    "print(x)"
   ]
  },
  {
   "cell_type": "code",
   "execution_count": 4,
   "id": "6b0be26d",
   "metadata": {},
   "outputs": [
    {
     "name": "stdout",
     "output_type": "stream",
     "text": [
      "enter a number5\n",
      "6\n"
     ]
    }
   ],
   "source": [
    "num=input(\"enter a number\")\n",
    "print(int(num)+1)"
   ]
  },
  {
   "cell_type": "code",
   "execution_count": 5,
   "id": "22d608d8",
   "metadata": {},
   "outputs": [
    {
     "name": "stdout",
     "output_type": "stream",
     "text": [
      "2018484001136\n"
     ]
    }
   ],
   "source": [
    "print(id(num))"
   ]
  },
  {
   "cell_type": "code",
   "execution_count": 6,
   "id": "18b26e08",
   "metadata": {},
   "outputs": [
    {
     "data": {
      "text/plain": [
       "2018484001136"
      ]
     },
     "execution_count": 6,
     "metadata": {},
     "output_type": "execute_result"
    }
   ],
   "source": [
    "id(num)"
   ]
  },
  {
   "cell_type": "code",
   "execution_count": 7,
   "id": "bff05723",
   "metadata": {},
   "outputs": [
    {
     "data": {
      "text/plain": [
       "2018482018480"
      ]
     },
     "execution_count": 7,
     "metadata": {},
     "output_type": "execute_result"
    }
   ],
   "source": [
    "id(x)"
   ]
  },
  {
   "cell_type": "markdown",
   "id": "55633357",
   "metadata": {},
   "source": [
    "Integer caching \n",
    "variables having same integer value are stored in same address"
   ]
  },
  {
   "cell_type": "code",
   "execution_count": 10,
   "id": "a796f125",
   "metadata": {},
   "outputs": [],
   "source": [
    "x=1234\n",
    "y=123"
   ]
  },
  {
   "cell_type": "code",
   "execution_count": 11,
   "id": "0eb36910",
   "metadata": {},
   "outputs": [
    {
     "data": {
      "text/plain": [
       "False"
      ]
     },
     "execution_count": 11,
     "metadata": {},
     "output_type": "execute_result"
    }
   ],
   "source": [
    "id(x)==id(y)"
   ]
  },
  {
   "cell_type": "markdown",
   "id": "a6cfb457",
   "metadata": {},
   "source": [
    "List\n",
    "array of void pointers"
   ]
  },
  {
   "cell_type": "code",
   "execution_count": 12,
   "id": "2dbb5f9b",
   "metadata": {},
   "outputs": [
    {
     "name": "stdout",
     "output_type": "stream",
     "text": [
      "<class 'str'>\n",
      "<class 'int'>\n",
      "<class 'float'>\n"
     ]
    }
   ],
   "source": [
    "data = ['123',123,123.0]\n",
    "for _ in data:\n",
    "    print(type(_))"
   ]
  },
  {
   "cell_type": "code",
   "execution_count": 13,
   "id": "fe4b4185",
   "metadata": {},
   "outputs": [
    {
     "data": {
      "text/plain": [
       "False"
      ]
     },
     "execution_count": 13,
     "metadata": {},
     "output_type": "execute_result"
    }
   ],
   "source": [
    "data1=data.copy()\n",
    "id(data)==id(data1)"
   ]
  },
  {
   "cell_type": "code",
   "execution_count": 14,
   "id": "e85e8222",
   "metadata": {},
   "outputs": [
    {
     "data": {
      "text/plain": [
       "True"
      ]
     },
     "execution_count": 14,
     "metadata": {},
     "output_type": "execute_result"
    }
   ],
   "source": [
    "data2=data\n",
    "id(data)==id(data2)"
   ]
  },
  {
   "cell_type": "code",
   "execution_count": 15,
   "id": "4d105be2",
   "metadata": {},
   "outputs": [
    {
     "name": "stdout",
     "output_type": "stream",
     "text": [
      "[1, 3, 12, 21, 30]\n"
     ]
    }
   ],
   "source": [
    "sample=[12,1,21,30,3]\n",
    "sample.sort()\n",
    "print(sample)"
   ]
  },
  {
   "cell_type": "code",
   "execution_count": 16,
   "id": "6971b4cc",
   "metadata": {},
   "outputs": [
    {
     "name": "stdout",
     "output_type": "stream",
     "text": [
      "['apple', 'ball', 'cat']\n"
     ]
    }
   ],
   "source": [
    "string=['apple','cat','ball']\n",
    "string.sort()\n",
    "print(string)"
   ]
  },
  {
   "cell_type": "markdown",
   "id": "80e0df7c",
   "metadata": {},
   "source": [
    "dictionary\n",
    "    key value pair"
   ]
  },
  {
   "cell_type": "code",
   "execution_count": 17,
   "id": "07fc1a25",
   "metadata": {},
   "outputs": [],
   "source": [
    "dict={}\n",
    "dict['azfar']=\"bbq\""
   ]
  },
  {
   "cell_type": "code",
   "execution_count": 18,
   "id": "e5fc53b2",
   "metadata": {},
   "outputs": [
    {
     "name": "stdout",
     "output_type": "stream",
     "text": [
      "{'azfar': 'bbq'}\n"
     ]
    }
   ],
   "source": [
    "print(dict)"
   ]
  },
  {
   "cell_type": "code",
   "execution_count": 19,
   "id": "a1ce9d83",
   "metadata": {},
   "outputs": [],
   "source": [
    "sauce={}\n",
    "sauce['3874034']='overflow'"
   ]
  },
  {
   "cell_type": "code",
   "execution_count": 20,
   "id": "69969a79",
   "metadata": {},
   "outputs": [
    {
     "name": "stdout",
     "output_type": "stream",
     "text": [
      "{'3874034': 'overflow'}\n"
     ]
    }
   ],
   "source": [
    "print(sauce)"
   ]
  },
  {
   "cell_type": "code",
   "execution_count": 22,
   "id": "0d0612e2",
   "metadata": {},
   "outputs": [
    {
     "name": "stdout",
     "output_type": "stream",
     "text": [
      "3874034 wanna see overflow\n"
     ]
    }
   ],
   "source": [
    "for key,value in sauce.items():\n",
    "    print(f'{key} wanna see {value}')"
   ]
  },
  {
   "cell_type": "code",
   "execution_count": null,
   "id": "ae287f5d",
   "metadata": {},
   "outputs": [],
   "source": []
  }
 ],
 "metadata": {
  "kernelspec": {
   "display_name": "Python 3 (ipykernel)",
   "language": "python",
   "name": "python3"
  },
  "language_info": {
   "codemirror_mode": {
    "name": "ipython",
    "version": 3
   },
   "file_extension": ".py",
   "mimetype": "text/x-python",
   "name": "python",
   "nbconvert_exporter": "python",
   "pygments_lexer": "ipython3",
   "version": "3.9.16"
  }
 },
 "nbformat": 4,
 "nbformat_minor": 5
}
